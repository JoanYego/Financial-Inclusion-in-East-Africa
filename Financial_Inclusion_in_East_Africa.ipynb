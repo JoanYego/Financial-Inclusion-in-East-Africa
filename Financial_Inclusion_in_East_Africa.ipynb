{
  "nbformat": 4,
  "nbformat_minor": 0,
  "metadata": {
    "colab": {
      "name": "Financial Inclusion in East Africa.ipynb",
      "provenance": [],
      "collapsed_sections": [],
      "toc_visible": true,
      "authorship_tag": "ABX9TyOzx0t62OGbwUCt3eLNlayZ",
      "include_colab_link": true
    },
    "kernelspec": {
      "name": "python3",
      "display_name": "Python 3"
    }
  },
  "cells": [
    {
      "cell_type": "markdown",
      "metadata": {
        "id": "view-in-github",
        "colab_type": "text"
      },
      "source": [
        "<a href=\"https://colab.research.google.com/github/JoanYego/Financial-Inclusion-in-East-Africa/blob/master/Financial_Inclusion_in_East_Africa.ipynb\" target=\"_parent\"><img src=\"https://colab.research.google.com/assets/colab-badge.svg\" alt=\"Open In Colab\"/></a>"
      ]
    },
    {
      "cell_type": "markdown",
      "metadata": {
        "id": "EofOKH3gA610",
        "colab_type": "text"
      },
      "source": [
        "# Specifying the Research Questions\n"
      ]
    },
    {
      "cell_type": "markdown",
      "metadata": {
        "id": "el36QpkHHljD",
        "colab_type": "text"
      },
      "source": [
        "> The aim of this analysis is to come up with a model that can predict which individuals are most likely to have or use a bank account.\n"
      ]
    },
    {
      "cell_type": "markdown",
      "metadata": {
        "id": "SoAkrW61CLVD",
        "colab_type": "text"
      },
      "source": [
        "# Defining the Metric for Success"
      ]
    },
    {
      "cell_type": "markdown",
      "metadata": {
        "id": "xh9CqvrwH79X",
        "colab_type": "text"
      },
      "source": [
        "> This reserch project will be considered successful when we are able to predict the individuals that most likely have or use a commercial bank account for personal or business purposes."
      ]
    },
    {
      "cell_type": "markdown",
      "metadata": {
        "id": "XJz9fLDzCULx",
        "colab_type": "text"
      },
      "source": [
        "# Understanding the Research Context"
      ]
    },
    {
      "cell_type": "markdown",
      "metadata": {
        "id": "5cfjvc-KJNZp",
        "colab_type": "text"
      },
      "source": [
        "> Financial inclusion means individuals and businesses are able to access useful financial products and services that serves their specific needs. For instance, taking a bank loan to start a business that will allow one to generate income and ultimately improve their standard of living. One of the main challenges of economic and human development in Africa is lack of financial inclusion.\n",
        "\n",
        "> Access to banks is a huge indicator of financial inclusion. Commercial banks allow individuals and business to not only save and make payments efficiently but also build up their credit worthiness (through borrowing and repaying accordingly) which can improve their access to financial instruments and services. In Kenya, uganda, Tanzania and Rwanda only 13.9% of the adult population have or use bank accounts. This implies that a majority of the population does not have access to a lot of financial services which can greatly impact their financial outcomes. \n",
        "\n",
        ">Being able to predict which individuals are most likely to have a bank accounts will allow for an efficient way to reach those whose are cut off from the financial ecosystem."
      ]
    },
    {
      "cell_type": "markdown",
      "metadata": {
        "id": "1WgkRNItCbE6",
        "colab_type": "text"
      },
      "source": [
        "# Experimental Design"
      ]
    },
    {
      "cell_type": "markdown",
      "metadata": {
        "id": "0s_k-hRuNYFt",
        "colab_type": "text"
      },
      "source": [
        "> Below are the steps that will be conducted in this analysis in order to answer the research question as accurately and comprehensively as possible:\n",
        "\n",
        "\n",
        ">*   Load data and preview preliminary characteristics of the dataset\n",
        ">*   Data Cleaning (check for and deal with outliers, anomalies and missing data)\n",
        ">*   Univariate Analysis\n",
        ">*   Bivariate Analysis\n",
        ">*   Multivariate Analysis\n",
        ">*   Implementing the Solution\n",
        ">*   Challenging the Solution and Follow Up Questions\n",
        "\n"
      ]
    },
    {
      "cell_type": "markdown",
      "metadata": {
        "id": "Z5Jr7cItCheF",
        "colab_type": "text"
      },
      "source": [
        "# Data Relevance"
      ]
    },
    {
      "cell_type": "markdown",
      "metadata": {
        "id": "0MpcmX1B354H",
        "colab_type": "text"
      },
      "source": [
        "> The dataset used in the analysis contains records of individuals from four Eastern Africa countries i.e.Kenya, Uganda, Tanzania and Rwanda between 2016 and 2018. Some of the information in the dataset include gender, occupation, age and marital status of the individual and whether the individual had a bank account at the time the data was collected. The data was sourced from various Finscope surveys that are available online.\n",
        "\n",
        "> The data available for this analysis is valid and useful towards answering the reseach question since it will allow us to identify some of the key demographic factors and characteristics of persons likely to have a bank account."
      ]
    },
    {
      "cell_type": "markdown",
      "metadata": {
        "id": "QbszzcSUCoZL",
        "colab_type": "text"
      },
      "source": [
        "# Reading the Data"
      ]
    },
    {
      "cell_type": "code",
      "metadata": {
        "id": "2OwBDekZ6dYU",
        "colab_type": "code",
        "colab": {}
      },
      "source": [
        "# Importing relevant python libraries\n",
        "\n",
        "import pandas as pd\n",
        "import numpy as np\n",
        "import seaborn as sns\n",
        "import matplotlib.pyplot as plt"
      ],
      "execution_count": null,
      "outputs": []
    },
    {
      "cell_type": "code",
      "metadata": {
        "id": "zrmhItXb7mPt",
        "colab_type": "code",
        "colab": {
          "base_uri": "https://localhost:8080/",
          "height": 677
        },
        "outputId": "41125b9a-74ad-42fd-d145-5d20413533a2"
      },
      "source": [
        "# Loading the data from the source (csv file)\n",
        "\n",
        "#Dataset Url: http://bit.ly/FinancialDataset\n",
        "\n",
        "finance = pd.read_csv('http://bit.ly/FinancialDataset')\n",
        "finance"
      ],
      "execution_count": null,
      "outputs": [
        {
          "output_type": "execute_result",
          "data": {
            "text/html": [
              "<div>\n",
              "<style scoped>\n",
              "    .dataframe tbody tr th:only-of-type {\n",
              "        vertical-align: middle;\n",
              "    }\n",
              "\n",
              "    .dataframe tbody tr th {\n",
              "        vertical-align: top;\n",
              "    }\n",
              "\n",
              "    .dataframe thead th {\n",
              "        text-align: right;\n",
              "    }\n",
              "</style>\n",
              "<table border=\"1\" class=\"dataframe\">\n",
              "  <thead>\n",
              "    <tr style=\"text-align: right;\">\n",
              "      <th></th>\n",
              "      <th>country</th>\n",
              "      <th>year</th>\n",
              "      <th>uniqueid</th>\n",
              "      <th>Has a Bank account</th>\n",
              "      <th>Type of Location</th>\n",
              "      <th>Cell Phone Access</th>\n",
              "      <th>household_size</th>\n",
              "      <th>Respondent Age</th>\n",
              "      <th>gender_of_respondent</th>\n",
              "      <th>The relathip with head</th>\n",
              "      <th>marital_status</th>\n",
              "      <th>Level of Educuation</th>\n",
              "      <th>Type of Job</th>\n",
              "    </tr>\n",
              "  </thead>\n",
              "  <tbody>\n",
              "    <tr>\n",
              "      <th>0</th>\n",
              "      <td>Kenya</td>\n",
              "      <td>2018</td>\n",
              "      <td>uniqueid_1</td>\n",
              "      <td>Yes</td>\n",
              "      <td>Rural</td>\n",
              "      <td>Yes</td>\n",
              "      <td>3.0</td>\n",
              "      <td>24.0</td>\n",
              "      <td>Female</td>\n",
              "      <td>Spouse</td>\n",
              "      <td>Married/Living together</td>\n",
              "      <td>Secondary education</td>\n",
              "      <td>Self employed</td>\n",
              "    </tr>\n",
              "    <tr>\n",
              "      <th>1</th>\n",
              "      <td>Kenya</td>\n",
              "      <td>2018</td>\n",
              "      <td>uniqueid_2</td>\n",
              "      <td>No</td>\n",
              "      <td>Rural</td>\n",
              "      <td>No</td>\n",
              "      <td>5.0</td>\n",
              "      <td>70.0</td>\n",
              "      <td>Female</td>\n",
              "      <td>Head of Household</td>\n",
              "      <td>Widowed</td>\n",
              "      <td>No formal education</td>\n",
              "      <td>Government Dependent</td>\n",
              "    </tr>\n",
              "    <tr>\n",
              "      <th>2</th>\n",
              "      <td>Kenya</td>\n",
              "      <td>2018</td>\n",
              "      <td>uniqueid_3</td>\n",
              "      <td>Yes</td>\n",
              "      <td>Urban</td>\n",
              "      <td>Yes</td>\n",
              "      <td>5.0</td>\n",
              "      <td>26.0</td>\n",
              "      <td>Male</td>\n",
              "      <td>Other relative</td>\n",
              "      <td>Single/Never Married</td>\n",
              "      <td>Vocational/Specialised training</td>\n",
              "      <td>Self employed</td>\n",
              "    </tr>\n",
              "    <tr>\n",
              "      <th>3</th>\n",
              "      <td>Kenya</td>\n",
              "      <td>2018</td>\n",
              "      <td>uniqueid_4</td>\n",
              "      <td>No</td>\n",
              "      <td>Rural</td>\n",
              "      <td>Yes</td>\n",
              "      <td>5.0</td>\n",
              "      <td>34.0</td>\n",
              "      <td>Female</td>\n",
              "      <td>Head of Household</td>\n",
              "      <td>Married/Living together</td>\n",
              "      <td>Primary education</td>\n",
              "      <td>Formally employed Private</td>\n",
              "    </tr>\n",
              "    <tr>\n",
              "      <th>4</th>\n",
              "      <td>Kenya</td>\n",
              "      <td>2018</td>\n",
              "      <td>uniqueid_5</td>\n",
              "      <td>No</td>\n",
              "      <td>Urban</td>\n",
              "      <td>No</td>\n",
              "      <td>8.0</td>\n",
              "      <td>26.0</td>\n",
              "      <td>Male</td>\n",
              "      <td>Child</td>\n",
              "      <td>Single/Never Married</td>\n",
              "      <td>Primary education</td>\n",
              "      <td>Informally employed</td>\n",
              "    </tr>\n",
              "    <tr>\n",
              "      <th>...</th>\n",
              "      <td>...</td>\n",
              "      <td>...</td>\n",
              "      <td>...</td>\n",
              "      <td>...</td>\n",
              "      <td>...</td>\n",
              "      <td>...</td>\n",
              "      <td>...</td>\n",
              "      <td>...</td>\n",
              "      <td>...</td>\n",
              "      <td>...</td>\n",
              "      <td>...</td>\n",
              "      <td>...</td>\n",
              "      <td>...</td>\n",
              "    </tr>\n",
              "    <tr>\n",
              "      <th>23519</th>\n",
              "      <td>Uganda</td>\n",
              "      <td>2018</td>\n",
              "      <td>uniqueid_2113</td>\n",
              "      <td>No</td>\n",
              "      <td>Rural</td>\n",
              "      <td>Yes</td>\n",
              "      <td>4.0</td>\n",
              "      <td>48.0</td>\n",
              "      <td>Female</td>\n",
              "      <td>Head of Household</td>\n",
              "      <td>Divorced/Seperated</td>\n",
              "      <td>No formal education</td>\n",
              "      <td>Other Income</td>\n",
              "    </tr>\n",
              "    <tr>\n",
              "      <th>23520</th>\n",
              "      <td>Uganda</td>\n",
              "      <td>2018</td>\n",
              "      <td>uniqueid_2114</td>\n",
              "      <td>No</td>\n",
              "      <td>Rural</td>\n",
              "      <td>Yes</td>\n",
              "      <td>2.0</td>\n",
              "      <td>27.0</td>\n",
              "      <td>Female</td>\n",
              "      <td>Head of Household</td>\n",
              "      <td>Single/Never Married</td>\n",
              "      <td>Secondary education</td>\n",
              "      <td>Other Income</td>\n",
              "    </tr>\n",
              "    <tr>\n",
              "      <th>23521</th>\n",
              "      <td>Uganda</td>\n",
              "      <td>2018</td>\n",
              "      <td>uniqueid_2115</td>\n",
              "      <td>No</td>\n",
              "      <td>Rural</td>\n",
              "      <td>Yes</td>\n",
              "      <td>5.0</td>\n",
              "      <td>27.0</td>\n",
              "      <td>Female</td>\n",
              "      <td>Parent</td>\n",
              "      <td>Widowed</td>\n",
              "      <td>Primary education</td>\n",
              "      <td>Other Income</td>\n",
              "    </tr>\n",
              "    <tr>\n",
              "      <th>23522</th>\n",
              "      <td>Uganda</td>\n",
              "      <td>2018</td>\n",
              "      <td>uniqueid_2116</td>\n",
              "      <td>No</td>\n",
              "      <td>Urban</td>\n",
              "      <td>Yes</td>\n",
              "      <td>7.0</td>\n",
              "      <td>30.0</td>\n",
              "      <td>Female</td>\n",
              "      <td>Parent</td>\n",
              "      <td>Divorced/Seperated</td>\n",
              "      <td>Secondary education</td>\n",
              "      <td>Self employed</td>\n",
              "    </tr>\n",
              "    <tr>\n",
              "      <th>23523</th>\n",
              "      <td>Uganda</td>\n",
              "      <td>2018</td>\n",
              "      <td>uniqueid_2117</td>\n",
              "      <td>No</td>\n",
              "      <td>Rural</td>\n",
              "      <td>Yes</td>\n",
              "      <td>10.0</td>\n",
              "      <td>20.0</td>\n",
              "      <td>Male</td>\n",
              "      <td>Child</td>\n",
              "      <td>Single/Never Married</td>\n",
              "      <td>Secondary education</td>\n",
              "      <td>No Income</td>\n",
              "    </tr>\n",
              "  </tbody>\n",
              "</table>\n",
              "<p>23524 rows × 13 columns</p>\n",
              "</div>"
            ],
            "text/plain": [
              "      country  year  ...              Level of Educuation                Type of Job\n",
              "0       Kenya  2018  ...              Secondary education              Self employed\n",
              "1       Kenya  2018  ...              No formal education       Government Dependent\n",
              "2       Kenya  2018  ...  Vocational/Specialised training              Self employed\n",
              "3       Kenya  2018  ...                Primary education  Formally employed Private\n",
              "4       Kenya  2018  ...                Primary education        Informally employed\n",
              "...       ...   ...  ...                              ...                        ...\n",
              "23519  Uganda  2018  ...              No formal education               Other Income\n",
              "23520  Uganda  2018  ...              Secondary education               Other Income\n",
              "23521  Uganda  2018  ...                Primary education               Other Income\n",
              "23522  Uganda  2018  ...              Secondary education              Self employed\n",
              "23523  Uganda  2018  ...              Secondary education                  No Income\n",
              "\n",
              "[23524 rows x 13 columns]"
            ]
          },
          "metadata": {
            "tags": []
          },
          "execution_count": 562
        }
      ]
    },
    {
      "cell_type": "markdown",
      "metadata": {
        "id": "EHLClaEICzAk",
        "colab_type": "text"
      },
      "source": [
        "# Checking the Data"
      ]
    },
    {
      "cell_type": "code",
      "metadata": {
        "id": "NdqHbC9w8XkE",
        "colab_type": "code",
        "colab": {
          "base_uri": "https://localhost:8080/",
          "height": 377
        },
        "outputId": "31c8bb49-02d8-498a-8f66-79135574483c"
      },
      "source": [
        "# Previewing the top of the dataset\n",
        "\n",
        "finance.head()"
      ],
      "execution_count": null,
      "outputs": [
        {
          "output_type": "execute_result",
          "data": {
            "text/html": [
              "<div>\n",
              "<style scoped>\n",
              "    .dataframe tbody tr th:only-of-type {\n",
              "        vertical-align: middle;\n",
              "    }\n",
              "\n",
              "    .dataframe tbody tr th {\n",
              "        vertical-align: top;\n",
              "    }\n",
              "\n",
              "    .dataframe thead th {\n",
              "        text-align: right;\n",
              "    }\n",
              "</style>\n",
              "<table border=\"1\" class=\"dataframe\">\n",
              "  <thead>\n",
              "    <tr style=\"text-align: right;\">\n",
              "      <th></th>\n",
              "      <th>country</th>\n",
              "      <th>year</th>\n",
              "      <th>uniqueid</th>\n",
              "      <th>Has a Bank account</th>\n",
              "      <th>Type of Location</th>\n",
              "      <th>Cell Phone Access</th>\n",
              "      <th>household_size</th>\n",
              "      <th>Respondent Age</th>\n",
              "      <th>gender_of_respondent</th>\n",
              "      <th>The relathip with head</th>\n",
              "      <th>marital_status</th>\n",
              "      <th>Level of Educuation</th>\n",
              "      <th>Type of Job</th>\n",
              "    </tr>\n",
              "  </thead>\n",
              "  <tbody>\n",
              "    <tr>\n",
              "      <th>0</th>\n",
              "      <td>Kenya</td>\n",
              "      <td>2018</td>\n",
              "      <td>uniqueid_1</td>\n",
              "      <td>Yes</td>\n",
              "      <td>Rural</td>\n",
              "      <td>Yes</td>\n",
              "      <td>3.0</td>\n",
              "      <td>24.0</td>\n",
              "      <td>Female</td>\n",
              "      <td>Spouse</td>\n",
              "      <td>Married/Living together</td>\n",
              "      <td>Secondary education</td>\n",
              "      <td>Self employed</td>\n",
              "    </tr>\n",
              "    <tr>\n",
              "      <th>1</th>\n",
              "      <td>Kenya</td>\n",
              "      <td>2018</td>\n",
              "      <td>uniqueid_2</td>\n",
              "      <td>No</td>\n",
              "      <td>Rural</td>\n",
              "      <td>No</td>\n",
              "      <td>5.0</td>\n",
              "      <td>70.0</td>\n",
              "      <td>Female</td>\n",
              "      <td>Head of Household</td>\n",
              "      <td>Widowed</td>\n",
              "      <td>No formal education</td>\n",
              "      <td>Government Dependent</td>\n",
              "    </tr>\n",
              "    <tr>\n",
              "      <th>2</th>\n",
              "      <td>Kenya</td>\n",
              "      <td>2018</td>\n",
              "      <td>uniqueid_3</td>\n",
              "      <td>Yes</td>\n",
              "      <td>Urban</td>\n",
              "      <td>Yes</td>\n",
              "      <td>5.0</td>\n",
              "      <td>26.0</td>\n",
              "      <td>Male</td>\n",
              "      <td>Other relative</td>\n",
              "      <td>Single/Never Married</td>\n",
              "      <td>Vocational/Specialised training</td>\n",
              "      <td>Self employed</td>\n",
              "    </tr>\n",
              "    <tr>\n",
              "      <th>3</th>\n",
              "      <td>Kenya</td>\n",
              "      <td>2018</td>\n",
              "      <td>uniqueid_4</td>\n",
              "      <td>No</td>\n",
              "      <td>Rural</td>\n",
              "      <td>Yes</td>\n",
              "      <td>5.0</td>\n",
              "      <td>34.0</td>\n",
              "      <td>Female</td>\n",
              "      <td>Head of Household</td>\n",
              "      <td>Married/Living together</td>\n",
              "      <td>Primary education</td>\n",
              "      <td>Formally employed Private</td>\n",
              "    </tr>\n",
              "    <tr>\n",
              "      <th>4</th>\n",
              "      <td>Kenya</td>\n",
              "      <td>2018</td>\n",
              "      <td>uniqueid_5</td>\n",
              "      <td>No</td>\n",
              "      <td>Urban</td>\n",
              "      <td>No</td>\n",
              "      <td>8.0</td>\n",
              "      <td>26.0</td>\n",
              "      <td>Male</td>\n",
              "      <td>Child</td>\n",
              "      <td>Single/Never Married</td>\n",
              "      <td>Primary education</td>\n",
              "      <td>Informally employed</td>\n",
              "    </tr>\n",
              "  </tbody>\n",
              "</table>\n",
              "</div>"
            ],
            "text/plain": [
              "  country  year  ...              Level of Educuation                Type of Job\n",
              "0   Kenya  2018  ...              Secondary education              Self employed\n",
              "1   Kenya  2018  ...              No formal education       Government Dependent\n",
              "2   Kenya  2018  ...  Vocational/Specialised training              Self employed\n",
              "3   Kenya  2018  ...                Primary education  Formally employed Private\n",
              "4   Kenya  2018  ...                Primary education        Informally employed\n",
              "\n",
              "[5 rows x 13 columns]"
            ]
          },
          "metadata": {
            "tags": []
          },
          "execution_count": 563
        }
      ]
    },
    {
      "cell_type": "code",
      "metadata": {
        "id": "4UkpxihR8hpD",
        "colab_type": "code",
        "colab": {
          "base_uri": "https://localhost:8080/",
          "height": 360
        },
        "outputId": "71f2a885-4e77-486d-e7e1-eeb179ec5473"
      },
      "source": [
        "# Previewing the bottom of the dataset\n",
        "\n",
        "finance.tail()"
      ],
      "execution_count": null,
      "outputs": [
        {
          "output_type": "execute_result",
          "data": {
            "text/html": [
              "<div>\n",
              "<style scoped>\n",
              "    .dataframe tbody tr th:only-of-type {\n",
              "        vertical-align: middle;\n",
              "    }\n",
              "\n",
              "    .dataframe tbody tr th {\n",
              "        vertical-align: top;\n",
              "    }\n",
              "\n",
              "    .dataframe thead th {\n",
              "        text-align: right;\n",
              "    }\n",
              "</style>\n",
              "<table border=\"1\" class=\"dataframe\">\n",
              "  <thead>\n",
              "    <tr style=\"text-align: right;\">\n",
              "      <th></th>\n",
              "      <th>country</th>\n",
              "      <th>year</th>\n",
              "      <th>uniqueid</th>\n",
              "      <th>Has a Bank account</th>\n",
              "      <th>Type of Location</th>\n",
              "      <th>Cell Phone Access</th>\n",
              "      <th>household_size</th>\n",
              "      <th>Respondent Age</th>\n",
              "      <th>gender_of_respondent</th>\n",
              "      <th>The relathip with head</th>\n",
              "      <th>marital_status</th>\n",
              "      <th>Level of Educuation</th>\n",
              "      <th>Type of Job</th>\n",
              "    </tr>\n",
              "  </thead>\n",
              "  <tbody>\n",
              "    <tr>\n",
              "      <th>23519</th>\n",
              "      <td>Uganda</td>\n",
              "      <td>2018</td>\n",
              "      <td>uniqueid_2113</td>\n",
              "      <td>No</td>\n",
              "      <td>Rural</td>\n",
              "      <td>Yes</td>\n",
              "      <td>4.0</td>\n",
              "      <td>48.0</td>\n",
              "      <td>Female</td>\n",
              "      <td>Head of Household</td>\n",
              "      <td>Divorced/Seperated</td>\n",
              "      <td>No formal education</td>\n",
              "      <td>Other Income</td>\n",
              "    </tr>\n",
              "    <tr>\n",
              "      <th>23520</th>\n",
              "      <td>Uganda</td>\n",
              "      <td>2018</td>\n",
              "      <td>uniqueid_2114</td>\n",
              "      <td>No</td>\n",
              "      <td>Rural</td>\n",
              "      <td>Yes</td>\n",
              "      <td>2.0</td>\n",
              "      <td>27.0</td>\n",
              "      <td>Female</td>\n",
              "      <td>Head of Household</td>\n",
              "      <td>Single/Never Married</td>\n",
              "      <td>Secondary education</td>\n",
              "      <td>Other Income</td>\n",
              "    </tr>\n",
              "    <tr>\n",
              "      <th>23521</th>\n",
              "      <td>Uganda</td>\n",
              "      <td>2018</td>\n",
              "      <td>uniqueid_2115</td>\n",
              "      <td>No</td>\n",
              "      <td>Rural</td>\n",
              "      <td>Yes</td>\n",
              "      <td>5.0</td>\n",
              "      <td>27.0</td>\n",
              "      <td>Female</td>\n",
              "      <td>Parent</td>\n",
              "      <td>Widowed</td>\n",
              "      <td>Primary education</td>\n",
              "      <td>Other Income</td>\n",
              "    </tr>\n",
              "    <tr>\n",
              "      <th>23522</th>\n",
              "      <td>Uganda</td>\n",
              "      <td>2018</td>\n",
              "      <td>uniqueid_2116</td>\n",
              "      <td>No</td>\n",
              "      <td>Urban</td>\n",
              "      <td>Yes</td>\n",
              "      <td>7.0</td>\n",
              "      <td>30.0</td>\n",
              "      <td>Female</td>\n",
              "      <td>Parent</td>\n",
              "      <td>Divorced/Seperated</td>\n",
              "      <td>Secondary education</td>\n",
              "      <td>Self employed</td>\n",
              "    </tr>\n",
              "    <tr>\n",
              "      <th>23523</th>\n",
              "      <td>Uganda</td>\n",
              "      <td>2018</td>\n",
              "      <td>uniqueid_2117</td>\n",
              "      <td>No</td>\n",
              "      <td>Rural</td>\n",
              "      <td>Yes</td>\n",
              "      <td>10.0</td>\n",
              "      <td>20.0</td>\n",
              "      <td>Male</td>\n",
              "      <td>Child</td>\n",
              "      <td>Single/Never Married</td>\n",
              "      <td>Secondary education</td>\n",
              "      <td>No Income</td>\n",
              "    </tr>\n",
              "  </tbody>\n",
              "</table>\n",
              "</div>"
            ],
            "text/plain": [
              "      country  year  ...  Level of Educuation    Type of Job\n",
              "23519  Uganda  2018  ...  No formal education   Other Income\n",
              "23520  Uganda  2018  ...  Secondary education   Other Income\n",
              "23521  Uganda  2018  ...    Primary education   Other Income\n",
              "23522  Uganda  2018  ...  Secondary education  Self employed\n",
              "23523  Uganda  2018  ...  Secondary education      No Income\n",
              "\n",
              "[5 rows x 13 columns]"
            ]
          },
          "metadata": {
            "tags": []
          },
          "execution_count": 564
        }
      ]
    },
    {
      "cell_type": "code",
      "metadata": {
        "id": "SD6zr6a3J231",
        "colab_type": "code",
        "colab": {
          "base_uri": "https://localhost:8080/",
          "height": 312
        },
        "outputId": "efcb076b-ee95-499f-8f7b-1a9dbc413d0c"
      },
      "source": [
        "# Previewing a sample of the dataset\n",
        "\n",
        "finance.sample(n=4)"
      ],
      "execution_count": null,
      "outputs": [
        {
          "output_type": "execute_result",
          "data": {
            "text/html": [
              "<div>\n",
              "<style scoped>\n",
              "    .dataframe tbody tr th:only-of-type {\n",
              "        vertical-align: middle;\n",
              "    }\n",
              "\n",
              "    .dataframe tbody tr th {\n",
              "        vertical-align: top;\n",
              "    }\n",
              "\n",
              "    .dataframe thead th {\n",
              "        text-align: right;\n",
              "    }\n",
              "</style>\n",
              "<table border=\"1\" class=\"dataframe\">\n",
              "  <thead>\n",
              "    <tr style=\"text-align: right;\">\n",
              "      <th></th>\n",
              "      <th>country</th>\n",
              "      <th>year</th>\n",
              "      <th>uniqueid</th>\n",
              "      <th>Has a Bank account</th>\n",
              "      <th>Type of Location</th>\n",
              "      <th>Cell Phone Access</th>\n",
              "      <th>household_size</th>\n",
              "      <th>Respondent Age</th>\n",
              "      <th>gender_of_respondent</th>\n",
              "      <th>The relathip with head</th>\n",
              "      <th>marital_status</th>\n",
              "      <th>Level of Educuation</th>\n",
              "      <th>Type of Job</th>\n",
              "    </tr>\n",
              "  </thead>\n",
              "  <tbody>\n",
              "    <tr>\n",
              "      <th>16887</th>\n",
              "      <td>Tanzania</td>\n",
              "      <td>2017</td>\n",
              "      <td>uniqueid_2085</td>\n",
              "      <td>No</td>\n",
              "      <td>Urban</td>\n",
              "      <td>No</td>\n",
              "      <td>2.0</td>\n",
              "      <td>30.0</td>\n",
              "      <td>Female</td>\n",
              "      <td>Spouse</td>\n",
              "      <td>Single/Never Married</td>\n",
              "      <td>Primary education</td>\n",
              "      <td>Remittance Dependent</td>\n",
              "    </tr>\n",
              "    <tr>\n",
              "      <th>4331</th>\n",
              "      <td>Kenya</td>\n",
              "      <td>2018</td>\n",
              "      <td>uniqueid_4332</td>\n",
              "      <td>Yes</td>\n",
              "      <td>Urban</td>\n",
              "      <td>Yes</td>\n",
              "      <td>3.0</td>\n",
              "      <td>27.0</td>\n",
              "      <td>Female</td>\n",
              "      <td>Spouse</td>\n",
              "      <td>Married/Living together</td>\n",
              "      <td>Secondary education</td>\n",
              "      <td>Self employed</td>\n",
              "    </tr>\n",
              "    <tr>\n",
              "      <th>4287</th>\n",
              "      <td>Kenya</td>\n",
              "      <td>2018</td>\n",
              "      <td>uniqueid_4288</td>\n",
              "      <td>No</td>\n",
              "      <td>Urban</td>\n",
              "      <td>No</td>\n",
              "      <td>4.0</td>\n",
              "      <td>41.0</td>\n",
              "      <td>Male</td>\n",
              "      <td>Head of Household</td>\n",
              "      <td>Married/Living together</td>\n",
              "      <td>Secondary education</td>\n",
              "      <td>Self employed</td>\n",
              "    </tr>\n",
              "    <tr>\n",
              "      <th>12211</th>\n",
              "      <td>Rwanda</td>\n",
              "      <td>2016</td>\n",
              "      <td>uniqueid_6144</td>\n",
              "      <td>No</td>\n",
              "      <td>Rural</td>\n",
              "      <td>Yes</td>\n",
              "      <td>6.0</td>\n",
              "      <td>51.0</td>\n",
              "      <td>Male</td>\n",
              "      <td>Head of Household</td>\n",
              "      <td>Married/Living together</td>\n",
              "      <td>Secondary education</td>\n",
              "      <td>Self employed</td>\n",
              "    </tr>\n",
              "  </tbody>\n",
              "</table>\n",
              "</div>"
            ],
            "text/plain": [
              "        country  year  ...  Level of Educuation           Type of Job\n",
              "16887  Tanzania  2017  ...    Primary education  Remittance Dependent\n",
              "4331      Kenya  2018  ...  Secondary education         Self employed\n",
              "4287      Kenya  2018  ...  Secondary education         Self employed\n",
              "12211    Rwanda  2016  ...  Secondary education         Self employed\n",
              "\n",
              "[4 rows x 13 columns]"
            ]
          },
          "metadata": {
            "tags": []
          },
          "execution_count": 565
        }
      ]
    },
    {
      "cell_type": "code",
      "metadata": {
        "id": "0whRbY788qkw",
        "colab_type": "code",
        "colab": {
          "base_uri": "https://localhost:8080/",
          "height": 34
        },
        "outputId": "7692654f-8315-4202-d3f9-1a243bcf965d"
      },
      "source": [
        "# Determining the number of records in the dataset\n",
        "\n",
        "finance.shape"
      ],
      "execution_count": null,
      "outputs": [
        {
          "output_type": "execute_result",
          "data": {
            "text/plain": [
              "(23524, 13)"
            ]
          },
          "metadata": {
            "tags": []
          },
          "execution_count": 566
        }
      ]
    },
    {
      "cell_type": "code",
      "metadata": {
        "id": "gqe1wav--FeC",
        "colab_type": "code",
        "colab": {
          "base_uri": "https://localhost:8080/",
          "height": 255
        },
        "outputId": "90dc4bbd-118f-4812-c88d-8bff96487f30"
      },
      "source": [
        "# Checking whether each column has an appropriate datatype\n",
        "\n",
        "finance.dtypes"
      ],
      "execution_count": null,
      "outputs": [
        {
          "output_type": "execute_result",
          "data": {
            "text/plain": [
              "country                    object\n",
              "year                        int64\n",
              "uniqueid                   object\n",
              "Has a Bank account         object\n",
              "Type of Location           object\n",
              "Cell Phone Access          object\n",
              "household_size            float64\n",
              "Respondent Age            float64\n",
              "gender_of_respondent       object\n",
              "The relathip with head     object\n",
              "marital_status             object\n",
              "Level of Educuation        object\n",
              "Type of Job                object\n",
              "dtype: object"
            ]
          },
          "metadata": {
            "tags": []
          },
          "execution_count": 567
        }
      ]
    },
    {
      "cell_type": "code",
      "metadata": {
        "id": "bK4G2FN3-Top",
        "colab_type": "code",
        "colab": {
          "base_uri": "https://localhost:8080/",
          "height": 255
        },
        "outputId": "42d3664c-d335-47aa-9842-2442d5f76460"
      },
      "source": [
        "# Checking the number of unique records in each column\n",
        "\n",
        "finance.nunique()"
      ],
      "execution_count": null,
      "outputs": [
        {
          "output_type": "execute_result",
          "data": {
            "text/plain": [
              "country                      4\n",
              "year                         6\n",
              "uniqueid                  8735\n",
              "Has a Bank account           2\n",
              "Type of Location             2\n",
              "Cell Phone Access            2\n",
              "household_size              21\n",
              "Respondent Age              85\n",
              "gender_of_respondent         2\n",
              "The relathip with head       6\n",
              "marital_status               5\n",
              "Level of Educuation          7\n",
              "Type of Job                 10\n",
              "dtype: int64"
            ]
          },
          "metadata": {
            "tags": []
          },
          "execution_count": 568
        }
      ]
    },
    {
      "cell_type": "code",
      "metadata": {
        "id": "UtrPvPxsKJow",
        "colab_type": "code",
        "colab": {
          "base_uri": "https://localhost:8080/",
          "height": 357
        },
        "outputId": "51a0cd53-5e81-44eb-8376-a8028f3efeba"
      },
      "source": [
        "# Previewing existence of null values\n",
        "\n",
        "finance.info()"
      ],
      "execution_count": null,
      "outputs": [
        {
          "output_type": "stream",
          "text": [
            "<class 'pandas.core.frame.DataFrame'>\n",
            "RangeIndex: 23524 entries, 0 to 23523\n",
            "Data columns (total 13 columns):\n",
            " #   Column                  Non-Null Count  Dtype  \n",
            "---  ------                  --------------  -----  \n",
            " 0   country                 23510 non-null  object \n",
            " 1   year                    23524 non-null  int64  \n",
            " 2   uniqueid                23524 non-null  object \n",
            " 3   Has a Bank account      23488 non-null  object \n",
            " 4   Type of Location        23509 non-null  object \n",
            " 5   Cell Phone Access       23513 non-null  object \n",
            " 6   household_size          23496 non-null  float64\n",
            " 7   Respondent Age          23490 non-null  float64\n",
            " 8   gender_of_respondent    23490 non-null  object \n",
            " 9   The relathip with head  23520 non-null  object \n",
            " 10  marital_status          23492 non-null  object \n",
            " 11  Level of Educuation     23495 non-null  object \n",
            " 12  Type of Job             23494 non-null  object \n",
            "dtypes: float64(2), int64(1), object(10)\n",
            "memory usage: 2.3+ MB\n"
          ],
          "name": "stdout"
        }
      ]
    },
    {
      "cell_type": "code",
      "metadata": {
        "id": "RKj17vqaKkX7",
        "colab_type": "code",
        "colab": {
          "base_uri": "https://localhost:8080/",
          "height": 297
        },
        "outputId": "89eae5f6-cbb4-4495-ecfb-f6d48eecf37c"
      },
      "source": [
        "# Summary statistics\n",
        "\n",
        "finance.describe()"
      ],
      "execution_count": null,
      "outputs": [
        {
          "output_type": "execute_result",
          "data": {
            "text/html": [
              "<div>\n",
              "<style scoped>\n",
              "    .dataframe tbody tr th:only-of-type {\n",
              "        vertical-align: middle;\n",
              "    }\n",
              "\n",
              "    .dataframe tbody tr th {\n",
              "        vertical-align: top;\n",
              "    }\n",
              "\n",
              "    .dataframe thead th {\n",
              "        text-align: right;\n",
              "    }\n",
              "</style>\n",
              "<table border=\"1\" class=\"dataframe\">\n",
              "  <thead>\n",
              "    <tr style=\"text-align: right;\">\n",
              "      <th></th>\n",
              "      <th>year</th>\n",
              "      <th>household_size</th>\n",
              "      <th>Respondent Age</th>\n",
              "    </tr>\n",
              "  </thead>\n",
              "  <tbody>\n",
              "    <tr>\n",
              "      <th>count</th>\n",
              "      <td>23524.000000</td>\n",
              "      <td>23496.000000</td>\n",
              "      <td>23490.000000</td>\n",
              "    </tr>\n",
              "    <tr>\n",
              "      <th>mean</th>\n",
              "      <td>2016.979000</td>\n",
              "      <td>3.681818</td>\n",
              "      <td>38.804300</td>\n",
              "    </tr>\n",
              "    <tr>\n",
              "      <th>std</th>\n",
              "      <td>0.899669</td>\n",
              "      <td>2.279933</td>\n",
              "      <td>16.519996</td>\n",
              "    </tr>\n",
              "    <tr>\n",
              "      <th>min</th>\n",
              "      <td>2016.000000</td>\n",
              "      <td>0.000000</td>\n",
              "      <td>16.000000</td>\n",
              "    </tr>\n",
              "    <tr>\n",
              "      <th>25%</th>\n",
              "      <td>2016.000000</td>\n",
              "      <td>2.000000</td>\n",
              "      <td>26.000000</td>\n",
              "    </tr>\n",
              "    <tr>\n",
              "      <th>50%</th>\n",
              "      <td>2017.000000</td>\n",
              "      <td>3.000000</td>\n",
              "      <td>35.000000</td>\n",
              "    </tr>\n",
              "    <tr>\n",
              "      <th>75%</th>\n",
              "      <td>2018.000000</td>\n",
              "      <td>5.000000</td>\n",
              "      <td>49.000000</td>\n",
              "    </tr>\n",
              "    <tr>\n",
              "      <th>max</th>\n",
              "      <td>2056.000000</td>\n",
              "      <td>21.000000</td>\n",
              "      <td>100.000000</td>\n",
              "    </tr>\n",
              "  </tbody>\n",
              "</table>\n",
              "</div>"
            ],
            "text/plain": [
              "               year  household_size  Respondent Age\n",
              "count  23524.000000    23496.000000    23490.000000\n",
              "mean    2016.979000        3.681818       38.804300\n",
              "std        0.899669        2.279933       16.519996\n",
              "min     2016.000000        0.000000       16.000000\n",
              "25%     2016.000000        2.000000       26.000000\n",
              "50%     2017.000000        3.000000       35.000000\n",
              "75%     2018.000000        5.000000       49.000000\n",
              "max     2056.000000       21.000000      100.000000"
            ]
          },
          "metadata": {
            "tags": []
          },
          "execution_count": 570
        }
      ]
    },
    {
      "cell_type": "markdown",
      "metadata": {
        "id": "UGOmzFL0C1PH",
        "colab_type": "text"
      },
      "source": [
        "# External Data Source Validation"
      ]
    },
    {
      "cell_type": "markdown",
      "metadata": {
        "id": "CvGdIQNOC9DO",
        "colab_type": "text"
      },
      "source": [
        "# Data Cleaning"
      ]
    },
    {
      "cell_type": "code",
      "metadata": {
        "id": "Th6RdC4tA45Z",
        "colab_type": "code",
        "colab": {
          "base_uri": "https://localhost:8080/",
          "height": 326
        },
        "outputId": "4dfee899-b60a-4108-96a0-7dcc56709228"
      },
      "source": [
        "# Preliminary Data Cleaning Steps\n",
        "\n",
        "# Renaming columns for uniformity\n",
        "\n",
        "finance.columns = ['country', 'year', 'uniqueid', 'has_a_bank_account', 'location_type', \n",
        "                   'has_a_cell_phone', 'household_size', 'respondent_age', 'respondent_gender',\n",
        "                   'relationship_with_head', 'marital_status', 'education_level', 'occupation']\n",
        "finance.head()"
      ],
      "execution_count": null,
      "outputs": [
        {
          "output_type": "execute_result",
          "data": {
            "text/html": [
              "<div>\n",
              "<style scoped>\n",
              "    .dataframe tbody tr th:only-of-type {\n",
              "        vertical-align: middle;\n",
              "    }\n",
              "\n",
              "    .dataframe tbody tr th {\n",
              "        vertical-align: top;\n",
              "    }\n",
              "\n",
              "    .dataframe thead th {\n",
              "        text-align: right;\n",
              "    }\n",
              "</style>\n",
              "<table border=\"1\" class=\"dataframe\">\n",
              "  <thead>\n",
              "    <tr style=\"text-align: right;\">\n",
              "      <th></th>\n",
              "      <th>country</th>\n",
              "      <th>year</th>\n",
              "      <th>uniqueid</th>\n",
              "      <th>has_a_bank_account</th>\n",
              "      <th>location_type</th>\n",
              "      <th>has_a_cell_phone</th>\n",
              "      <th>household_size</th>\n",
              "      <th>respondent_age</th>\n",
              "      <th>respondent_gender</th>\n",
              "      <th>relationship_with_head</th>\n",
              "      <th>marital_status</th>\n",
              "      <th>education_level</th>\n",
              "      <th>occupation</th>\n",
              "    </tr>\n",
              "  </thead>\n",
              "  <tbody>\n",
              "    <tr>\n",
              "      <th>0</th>\n",
              "      <td>Kenya</td>\n",
              "      <td>2018</td>\n",
              "      <td>uniqueid_1</td>\n",
              "      <td>Yes</td>\n",
              "      <td>Rural</td>\n",
              "      <td>Yes</td>\n",
              "      <td>3.0</td>\n",
              "      <td>24.0</td>\n",
              "      <td>Female</td>\n",
              "      <td>Spouse</td>\n",
              "      <td>Married/Living together</td>\n",
              "      <td>Secondary education</td>\n",
              "      <td>Self employed</td>\n",
              "    </tr>\n",
              "    <tr>\n",
              "      <th>1</th>\n",
              "      <td>Kenya</td>\n",
              "      <td>2018</td>\n",
              "      <td>uniqueid_2</td>\n",
              "      <td>No</td>\n",
              "      <td>Rural</td>\n",
              "      <td>No</td>\n",
              "      <td>5.0</td>\n",
              "      <td>70.0</td>\n",
              "      <td>Female</td>\n",
              "      <td>Head of Household</td>\n",
              "      <td>Widowed</td>\n",
              "      <td>No formal education</td>\n",
              "      <td>Government Dependent</td>\n",
              "    </tr>\n",
              "    <tr>\n",
              "      <th>2</th>\n",
              "      <td>Kenya</td>\n",
              "      <td>2018</td>\n",
              "      <td>uniqueid_3</td>\n",
              "      <td>Yes</td>\n",
              "      <td>Urban</td>\n",
              "      <td>Yes</td>\n",
              "      <td>5.0</td>\n",
              "      <td>26.0</td>\n",
              "      <td>Male</td>\n",
              "      <td>Other relative</td>\n",
              "      <td>Single/Never Married</td>\n",
              "      <td>Vocational/Specialised training</td>\n",
              "      <td>Self employed</td>\n",
              "    </tr>\n",
              "    <tr>\n",
              "      <th>3</th>\n",
              "      <td>Kenya</td>\n",
              "      <td>2018</td>\n",
              "      <td>uniqueid_4</td>\n",
              "      <td>No</td>\n",
              "      <td>Rural</td>\n",
              "      <td>Yes</td>\n",
              "      <td>5.0</td>\n",
              "      <td>34.0</td>\n",
              "      <td>Female</td>\n",
              "      <td>Head of Household</td>\n",
              "      <td>Married/Living together</td>\n",
              "      <td>Primary education</td>\n",
              "      <td>Formally employed Private</td>\n",
              "    </tr>\n",
              "    <tr>\n",
              "      <th>4</th>\n",
              "      <td>Kenya</td>\n",
              "      <td>2018</td>\n",
              "      <td>uniqueid_5</td>\n",
              "      <td>No</td>\n",
              "      <td>Urban</td>\n",
              "      <td>No</td>\n",
              "      <td>8.0</td>\n",
              "      <td>26.0</td>\n",
              "      <td>Male</td>\n",
              "      <td>Child</td>\n",
              "      <td>Single/Never Married</td>\n",
              "      <td>Primary education</td>\n",
              "      <td>Informally employed</td>\n",
              "    </tr>\n",
              "  </tbody>\n",
              "</table>\n",
              "</div>"
            ],
            "text/plain": [
              "  country  year  ...                  education_level                 occupation\n",
              "0   Kenya  2018  ...              Secondary education              Self employed\n",
              "1   Kenya  2018  ...              No formal education       Government Dependent\n",
              "2   Kenya  2018  ...  Vocational/Specialised training              Self employed\n",
              "3   Kenya  2018  ...                Primary education  Formally employed Private\n",
              "4   Kenya  2018  ...                Primary education        Informally employed\n",
              "\n",
              "[5 rows x 13 columns]"
            ]
          },
          "metadata": {
            "tags": []
          },
          "execution_count": 571
        }
      ]
    },
    {
      "cell_type": "code",
      "metadata": {
        "id": "f9y_CPi6LXXh",
        "colab_type": "code",
        "colab": {
          "base_uri": "https://localhost:8080/",
          "height": 34
        },
        "outputId": "63ef699b-60cc-4feb-b66f-0e115d4fabba"
      },
      "source": [
        "# Checking whether there are any duplicate values\n",
        "\n",
        "finance.duplicated().any()"
      ],
      "execution_count": null,
      "outputs": [
        {
          "output_type": "execute_result",
          "data": {
            "text/plain": [
              "False"
            ]
          },
          "metadata": {
            "tags": []
          },
          "execution_count": 572
        }
      ]
    },
    {
      "cell_type": "markdown",
      "metadata": {
        "id": "DiFpFmetEGfx",
        "colab_type": "text"
      },
      "source": [
        "## Outliers"
      ]
    },
    {
      "cell_type": "code",
      "metadata": {
        "id": "7mMardz3D9gk",
        "colab_type": "code",
        "colab": {
          "base_uri": "https://localhost:8080/",
          "height": 426
        },
        "outputId": "b9384fd3-bf67-42f0-f93e-59d0905855b8"
      },
      "source": [
        "# Checking for Outliers\n",
        "\n",
        "fig, ax = plt.subplots(1,3, figsize=(20,8))\n",
        "fig.suptitle('Boxplots')\n",
        "sns.boxplot(data=finance, y = \"year\", ax=ax[0])\n",
        "ax[0].set_title('Box Plot of Year')\n",
        "sns.boxplot(data=finance, y = \"respondent_age\", ax=ax[1])\n",
        "ax[1].set_title('Box Plot of Respondents Age')\n",
        "sns.boxplot(data=finance, y = \"household_size\", ax=ax[2])\n",
        "ax[2].set_title('Box Plot of Household Size')\n",
        "\n",
        "plt.show()\n",
        "\n",
        "# The plots below show that we have three outliers in the 'year' variable,\n",
        "# eleven outliers in 'household size' variable and multiple outliers in the 'age' variable."
      ],
      "execution_count": null,
      "outputs": [
        {
          "output_type": "display_data",
          "data": {
            "image/png": "[encoded data removed]",
            "text/plain": [
              "<Figure size 1440x576 with 3 Axes>"
            ]
          },
          "metadata": {
            "tags": [],
            "needs_background": "light"
          }
        }
      ]
    },
    {
      "cell_type": "code",
      "metadata": {
        "id": "ahOf4uN0TZvW",
        "colab_type": "code",
        "colab": {
          "base_uri": "https://localhost:8080/",
          "height": 1000
        },
        "outputId": "a2660f75-4b1a-499a-ab8a-329d9b350d49"
      },
      "source": [
        "# We can identify the exact outliers in the 'respondent age'\n",
        "# attributes with the function below\n",
        "\n",
        "outliers = []\n",
        "\n",
        "def detect_outlier(data):\n",
        "  threshold=3\n",
        "  mean_1=np.mean(data)\n",
        "  std_1=np.std(data)\n",
        "\n",
        "  for y in data:\n",
        "    z_score=(y-mean_1)/std_1\n",
        "    if np.abs(z_score)>threshold:\n",
        "      outliers.append(y)\n",
        "  return outliers\n",
        "detect_outlier(finance['respondent_age'])\n",
        "\n",
        "# We can see that ages 89 - 100 are outliers.\n",
        "# These are all plausible ages"
      ],
      "execution_count": null,
      "outputs": [
        {
          "output_type": "execute_result",
          "data": {
            "text/plain": [
              "[95.0,\n",
              " 95.0,\n",
              " 95.0,\n",
              " 93.0,\n",
              " 90.0,\n",
              " 89.0,\n",
              " 95.0,\n",
              " 94.0,\n",
              " 95.0,\n",
              " 93.0,\n",
              " 90.0,\n",
              " 92.0,\n",
              " 92.0,\n",
              " 90.0,\n",
              " 90.0,\n",
              " 90.0,\n",
              " 91.0,\n",
              " 93.0,\n",
              " 95.0,\n",
              " 90.0,\n",
              " 89.0,\n",
              " 89.0,\n",
              " 95.0,\n",
              " 90.0,\n",
              " 89.0,\n",
              " 89.0,\n",
              " 89.0,\n",
              " 90.0,\n",
              " 95.0,\n",
              " 93.0,\n",
              " 92.0,\n",
              " 95.0,\n",
              " 94.0,\n",
              " 92.0,\n",
              " 95.0,\n",
              " 90.0,\n",
              " 95.0,\n",
              " 95.0,\n",
              " 89.0,\n",
              " 95.0,\n",
              " 98.0,\n",
              " 95.0,\n",
              " 97.0,\n",
              " 92.0,\n",
              " 89.0,\n",
              " 92.0,\n",
              " 89.0,\n",
              " 96.0,\n",
              " 89.0,\n",
              " 99.0,\n",
              " 89.0,\n",
              " 94.0,\n",
              " 91.0,\n",
              " 91.0,\n",
              " 90.0,\n",
              " 89.0,\n",
              " 89.0,\n",
              " 90.0,\n",
              " 95.0,\n",
              " 89.0,\n",
              " 90.0,\n",
              " 96.0,\n",
              " 100.0,\n",
              " 90.0,\n",
              " 90.0,\n",
              " 89.0,\n",
              " 98.0,\n",
              " 91.0,\n",
              " 92.0,\n",
              " 95.0,\n",
              " 89.0,\n",
              " 94.0,\n",
              " 99.0,\n",
              " 90.0,\n",
              " 90.0,\n",
              " 90.0,\n",
              " 90.0,\n",
              " 90.0,\n",
              " 100.0,\n",
              " 95.0,\n",
              " 91.0,\n",
              " 90.0,\n",
              " 95.0,\n",
              " 94.0,\n",
              " 90.0,\n",
              " 98.0,\n",
              " 98.0,\n",
              " 100.0,\n",
              " 100.0,\n",
              " 90.0,\n",
              " 90.0,\n",
              " 100.0,\n",
              " 90.0,\n",
              " 90.0,\n",
              " 96.0,\n",
              " 90.0,\n",
              " 90.0,\n",
              " 98.0,\n",
              " 95.0,\n",
              " 98.0,\n",
              " 90.0]"
            ]
          },
          "metadata": {
            "tags": []
          },
          "execution_count": 574
        }
      ]
    },
    {
      "cell_type": "markdown",
      "metadata": {
        "id": "vvTLHQUKELVI",
        "colab_type": "text"
      },
      "source": [
        "## Anomalies"
      ]
    },
    {
      "cell_type": "code",
      "metadata": {
        "id": "foMKODuQYGsG",
        "colab_type": "code",
        "colab": {
          "base_uri": "https://localhost:8080/",
          "height": 34
        },
        "outputId": "aab9210c-db52-473b-da07-2364397b5345"
      },
      "source": [
        "# Checking for Anomalies\n",
        "# 'year' variable\n",
        "\n",
        "q1_year = finance['year'].quantile(.25)\n",
        "q3_year = finance['year'].quantile(.75)\n",
        "\n",
        "iqr_year = q3_year - q1_year\n",
        "\n",
        "# 'respondent_age' variable\n",
        "q1_age = finance['respondent_age'].quantile(.25)\n",
        "q3_age = finance['respondent_age'].quantile(.75)\n",
        "\n",
        "iqr_age = q3_age - q1_age\n",
        "\n",
        "# 'household_size' variable\n",
        "q1_size = finance['household_size'].quantile(.25)\n",
        "q3_size = finance['household_size'].quantile(.75)\n",
        "\n",
        "iqr_size = q3_size - q1_size\n",
        "\n",
        "print(iqr_year, iqr_age, iqr_size) \n",
        "\n",
        "# The results show that 'year' has 2 records that are not within the middle 50% of the records in that column\n",
        "# Similarly, 'respondent age' and 'household size' variables have 23 and 3 (respectively)\n",
        "# records that do not lie within the upper and lower bounds\n"
      ],
      "execution_count": null,
      "outputs": [
        {
          "output_type": "stream",
          "text": [
            "2.0 23.0 3.0\n"
          ],
          "name": "stdout"
        }
      ]
    },
    {
      "cell_type": "markdown",
      "metadata": {
        "id": "O_w9fi94EQfG",
        "colab_type": "text"
      },
      "source": [
        "## Missing Data"
      ]
    },
    {
      "cell_type": "code",
      "metadata": {
        "id": "UAa1dzUob-PU",
        "colab_type": "code",
        "colab": {
          "base_uri": "https://localhost:8080/",
          "height": 255
        },
        "outputId": "4209976d-775a-4cd9-eabc-f0bb077bd667"
      },
      "source": [
        "# Checking whether we have any missing data in the dataframe\n",
        "\n",
        "\n",
        "np.count_nonzero(finance.isnull())\n",
        "finance.isnull().sum()\n",
        "\n",
        "# we can see for the result below that there is missing data"
      ],
      "execution_count": null,
      "outputs": [
        {
          "output_type": "execute_result",
          "data": {
            "text/plain": [
              "country                   14\n",
              "year                       0\n",
              "uniqueid                   0\n",
              "has_a_bank_account        36\n",
              "location_type             15\n",
              "has_a_cell_phone          11\n",
              "household_size            28\n",
              "respondent_age            34\n",
              "respondent_gender         34\n",
              "relationship_with_head     4\n",
              "marital_status            32\n",
              "education_level           29\n",
              "occupation                30\n",
              "dtype: int64"
            ]
          },
          "metadata": {
            "tags": []
          },
          "execution_count": 576
        }
      ]
    },
    {
      "cell_type": "code",
      "metadata": {
        "id": "5VLI2UltlJ4E",
        "colab_type": "code",
        "colab": {}
      },
      "source": [
        "# Dealing with missing data\n",
        "# We can check what the data looks like for the records where \n",
        "# 'country' variable is null\n",
        "\n",
        "finance[finance['country'].isna()]\n",
        "\n",
        "# We can see that the 'year' variable is 2017. From the data source,\n",
        "# we know that the records taken in 2017 are for Tanzania only\n",
        "# so we can replace the country variable from Null to Tanzania\n",
        "\n",
        "finance[\"country\"].fillna(\"Tanzania\", inplace = True)"
      ],
      "execution_count": null,
      "outputs": []
    },
    {
      "cell_type": "code",
      "metadata": {
        "id": "HYV31bMDthxl",
        "colab_type": "code",
        "colab": {
          "base_uri": "https://localhost:8080/",
          "height": 255
        },
        "outputId": "5289a893-c37a-4c72-f9c9-3e8b97ddfc30"
      },
      "source": [
        "# Verifying that the 'country' variable no longer has null values\n",
        "finance.isnull().sum()"
      ],
      "execution_count": null,
      "outputs": [
        {
          "output_type": "execute_result",
          "data": {
            "text/plain": [
              "country                    0\n",
              "year                       0\n",
              "uniqueid                   0\n",
              "has_a_bank_account        36\n",
              "location_type             15\n",
              "has_a_cell_phone          11\n",
              "household_size            28\n",
              "respondent_age            34\n",
              "respondent_gender         34\n",
              "relationship_with_head     4\n",
              "marital_status            32\n",
              "education_level           29\n",
              "occupation                30\n",
              "dtype: int64"
            ]
          },
          "metadata": {
            "tags": []
          },
          "execution_count": 578
        }
      ]
    },
    {
      "cell_type": "code",
      "metadata": {
        "id": "-XOY6taSvhAP",
        "colab_type": "code",
        "colab": {
          "base_uri": "https://localhost:8080/",
          "height": 626
        },
        "outputId": "ab03b882-3789-4a97-c950-f393af21d777"
      },
      "source": [
        "# The remaining dataset has mainly categorical type of data\n",
        "# which is not necessarily easy to deduce from other values\n",
        "# In this case, we can drop all remaining null values\n",
        "\n",
        "finance.dropna(inplace=True)\n",
        "finance.reset_index(drop=True, inplace=True)\n",
        "finance"
      ],
      "execution_count": null,
      "outputs": [
        {
          "output_type": "execute_result",
          "data": {
            "text/html": [
              "<div>\n",
              "<style scoped>\n",
              "    .dataframe tbody tr th:only-of-type {\n",
              "        vertical-align: middle;\n",
              "    }\n",
              "\n",
              "    .dataframe tbody tr th {\n",
              "        vertical-align: top;\n",
              "    }\n",
              "\n",
              "    .dataframe thead th {\n",
              "        text-align: right;\n",
              "    }\n",
              "</style>\n",
              "<table border=\"1\" class=\"dataframe\">\n",
              "  <thead>\n",
              "    <tr style=\"text-align: right;\">\n",
              "      <th></th>\n",
              "      <th>country</th>\n",
              "      <th>year</th>\n",
              "      <th>uniqueid</th>\n",
              "      <th>has_a_bank_account</th>\n",
              "      <th>location_type</th>\n",
              "      <th>has_a_cell_phone</th>\n",
              "      <th>household_size</th>\n",
              "      <th>respondent_age</th>\n",
              "      <th>respondent_gender</th>\n",
              "      <th>relationship_with_head</th>\n",
              "      <th>marital_status</th>\n",
              "      <th>education_level</th>\n",
              "      <th>occupation</th>\n",
              "    </tr>\n",
              "  </thead>\n",
              "  <tbody>\n",
              "    <tr>\n",
              "      <th>0</th>\n",
              "      <td>Kenya</td>\n",
              "      <td>2018</td>\n",
              "      <td>uniqueid_1</td>\n",
              "      <td>Yes</td>\n",
              "      <td>Rural</td>\n",
              "      <td>Yes</td>\n",
              "      <td>3.0</td>\n",
              "      <td>24.0</td>\n",
              "      <td>Female</td>\n",
              "      <td>Spouse</td>\n",
              "      <td>Married/Living together</td>\n",
              "      <td>Secondary education</td>\n",
              "      <td>Self employed</td>\n",
              "    </tr>\n",
              "    <tr>\n",
              "      <th>1</th>\n",
              "      <td>Kenya</td>\n",
              "      <td>2018</td>\n",
              "      <td>uniqueid_2</td>\n",
              "      <td>No</td>\n",
              "      <td>Rural</td>\n",
              "      <td>No</td>\n",
              "      <td>5.0</td>\n",
              "      <td>70.0</td>\n",
              "      <td>Female</td>\n",
              "      <td>Head of Household</td>\n",
              "      <td>Widowed</td>\n",
              "      <td>No formal education</td>\n",
              "      <td>Government Dependent</td>\n",
              "    </tr>\n",
              "    <tr>\n",
              "      <th>2</th>\n",
              "      <td>Kenya</td>\n",
              "      <td>2018</td>\n",
              "      <td>uniqueid_3</td>\n",
              "      <td>Yes</td>\n",
              "      <td>Urban</td>\n",
              "      <td>Yes</td>\n",
              "      <td>5.0</td>\n",
              "      <td>26.0</td>\n",
              "      <td>Male</td>\n",
              "      <td>Other relative</td>\n",
              "      <td>Single/Never Married</td>\n",
              "      <td>Vocational/Specialised training</td>\n",
              "      <td>Self employed</td>\n",
              "    </tr>\n",
              "    <tr>\n",
              "      <th>3</th>\n",
              "      <td>Kenya</td>\n",
              "      <td>2018</td>\n",
              "      <td>uniqueid_4</td>\n",
              "      <td>No</td>\n",
              "      <td>Rural</td>\n",
              "      <td>Yes</td>\n",
              "      <td>5.0</td>\n",
              "      <td>34.0</td>\n",
              "      <td>Female</td>\n",
              "      <td>Head of Household</td>\n",
              "      <td>Married/Living together</td>\n",
              "      <td>Primary education</td>\n",
              "      <td>Formally employed Private</td>\n",
              "    </tr>\n",
              "    <tr>\n",
              "      <th>4</th>\n",
              "      <td>Kenya</td>\n",
              "      <td>2018</td>\n",
              "      <td>uniqueid_5</td>\n",
              "      <td>No</td>\n",
              "      <td>Urban</td>\n",
              "      <td>No</td>\n",
              "      <td>8.0</td>\n",
              "      <td>26.0</td>\n",
              "      <td>Male</td>\n",
              "      <td>Child</td>\n",
              "      <td>Single/Never Married</td>\n",
              "      <td>Primary education</td>\n",
              "      <td>Informally employed</td>\n",
              "    </tr>\n",
              "    <tr>\n",
              "      <th>...</th>\n",
              "      <td>...</td>\n",
              "      <td>...</td>\n",
              "      <td>...</td>\n",
              "      <td>...</td>\n",
              "      <td>...</td>\n",
              "      <td>...</td>\n",
              "      <td>...</td>\n",
              "      <td>...</td>\n",
              "      <td>...</td>\n",
              "      <td>...</td>\n",
              "      <td>...</td>\n",
              "      <td>...</td>\n",
              "      <td>...</td>\n",
              "    </tr>\n",
              "    <tr>\n",
              "      <th>23352</th>\n",
              "      <td>Uganda</td>\n",
              "      <td>2018</td>\n",
              "      <td>uniqueid_2113</td>\n",
              "      <td>No</td>\n",
              "      <td>Rural</td>\n",
              "      <td>Yes</td>\n",
              "      <td>4.0</td>\n",
              "      <td>48.0</td>\n",
              "      <td>Female</td>\n",
              "      <td>Head of Household</td>\n",
              "      <td>Divorced/Seperated</td>\n",
              "      <td>No formal education</td>\n",
              "      <td>Other Income</td>\n",
              "    </tr>\n",
              "    <tr>\n",
              "      <th>23353</th>\n",
              "      <td>Uganda</td>\n",
              "      <td>2018</td>\n",
              "      <td>uniqueid_2114</td>\n",
              "      <td>No</td>\n",
              "      <td>Rural</td>\n",
              "      <td>Yes</td>\n",
              "      <td>2.0</td>\n",
              "      <td>27.0</td>\n",
              "      <td>Female</td>\n",
              "      <td>Head of Household</td>\n",
              "      <td>Single/Never Married</td>\n",
              "      <td>Secondary education</td>\n",
              "      <td>Other Income</td>\n",
              "    </tr>\n",
              "    <tr>\n",
              "      <th>23354</th>\n",
              "      <td>Uganda</td>\n",
              "      <td>2018</td>\n",
              "      <td>uniqueid_2115</td>\n",
              "      <td>No</td>\n",
              "      <td>Rural</td>\n",
              "      <td>Yes</td>\n",
              "      <td>5.0</td>\n",
              "      <td>27.0</td>\n",
              "      <td>Female</td>\n",
              "      <td>Parent</td>\n",
              "      <td>Widowed</td>\n",
              "      <td>Primary education</td>\n",
              "      <td>Other Income</td>\n",
              "    </tr>\n",
              "    <tr>\n",
              "      <th>23355</th>\n",
              "      <td>Uganda</td>\n",
              "      <td>2018</td>\n",
              "      <td>uniqueid_2116</td>\n",
              "      <td>No</td>\n",
              "      <td>Urban</td>\n",
              "      <td>Yes</td>\n",
              "      <td>7.0</td>\n",
              "      <td>30.0</td>\n",
              "      <td>Female</td>\n",
              "      <td>Parent</td>\n",
              "      <td>Divorced/Seperated</td>\n",
              "      <td>Secondary education</td>\n",
              "      <td>Self employed</td>\n",
              "    </tr>\n",
              "    <tr>\n",
              "      <th>23356</th>\n",
              "      <td>Uganda</td>\n",
              "      <td>2018</td>\n",
              "      <td>uniqueid_2117</td>\n",
              "      <td>No</td>\n",
              "      <td>Rural</td>\n",
              "      <td>Yes</td>\n",
              "      <td>10.0</td>\n",
              "      <td>20.0</td>\n",
              "      <td>Male</td>\n",
              "      <td>Child</td>\n",
              "      <td>Single/Never Married</td>\n",
              "      <td>Secondary education</td>\n",
              "      <td>No Income</td>\n",
              "    </tr>\n",
              "  </tbody>\n",
              "</table>\n",
              "<p>23357 rows × 13 columns</p>\n",
              "</div>"
            ],
            "text/plain": [
              "      country  year  ...                  education_level                 occupation\n",
              "0       Kenya  2018  ...              Secondary education              Self employed\n",
              "1       Kenya  2018  ...              No formal education       Government Dependent\n",
              "2       Kenya  2018  ...  Vocational/Specialised training              Self employed\n",
              "3       Kenya  2018  ...                Primary education  Formally employed Private\n",
              "4       Kenya  2018  ...                Primary education        Informally employed\n",
              "...       ...   ...  ...                              ...                        ...\n",
              "23352  Uganda  2018  ...              No formal education               Other Income\n",
              "23353  Uganda  2018  ...              Secondary education               Other Income\n",
              "23354  Uganda  2018  ...                Primary education               Other Income\n",
              "23355  Uganda  2018  ...              Secondary education              Self employed\n",
              "23356  Uganda  2018  ...              Secondary education                  No Income\n",
              "\n",
              "[23357 rows x 13 columns]"
            ]
          },
          "metadata": {
            "tags": []
          },
          "execution_count": 579
        }
      ]
    },
    {
      "cell_type": "code",
      "metadata": {
        "id": "acC_q1S8xQYf",
        "colab_type": "code",
        "colab": {
          "base_uri": "https://localhost:8080/",
          "height": 255
        },
        "outputId": "3b6ddf69-c4f1-4fd9-d9bf-9333f149311d"
      },
      "source": [
        "# Confirming that there are no nulls anymore after the drop\n",
        "\n",
        "finance.isnull().sum()"
      ],
      "execution_count": null,
      "outputs": [
        {
          "output_type": "execute_result",
          "data": {
            "text/plain": [
              "country                   0\n",
              "year                      0\n",
              "uniqueid                  0\n",
              "has_a_bank_account        0\n",
              "location_type             0\n",
              "has_a_cell_phone          0\n",
              "household_size            0\n",
              "respondent_age            0\n",
              "respondent_gender         0\n",
              "relationship_with_head    0\n",
              "marital_status            0\n",
              "education_level           0\n",
              "occupation                0\n",
              "dtype: int64"
            ]
          },
          "metadata": {
            "tags": []
          },
          "execution_count": 580
        }
      ]
    },
    {
      "cell_type": "markdown",
      "metadata": {
        "id": "oG6sFZk_yOT8",
        "colab_type": "text"
      },
      "source": [
        "# Exploratory Analysis"
      ]
    },
    {
      "cell_type": "markdown",
      "metadata": {
        "id": "XMI0aU_2DoTR",
        "colab_type": "text"
      },
      "source": [
        "## Univariate Analysis"
      ]
    },
    {
      "cell_type": "markdown",
      "metadata": {
        "id": "C8nI77iIBXpE",
        "colab_type": "text"
      },
      "source": [
        "### Visualizations"
      ]
    },
    {
      "cell_type": "code",
      "metadata": {
        "id": "LQqw7JhD0GCB",
        "colab_type": "code",
        "colab": {
          "base_uri": "https://localhost:8080/",
          "height": 153
        },
        "outputId": "3396e6f6-3e4e-4e33-9c4a-195f9a7a05e7"
      },
      "source": [
        "# Ploting the univariate summaries and recording our observations\n",
        "\n",
        "# We can create a frequency table\n",
        "# to show how many times each level of education exists in the dataset\n",
        "\n",
        "finance.education_level.value_counts()"
      ],
      "execution_count": null,
      "outputs": [
        {
          "output_type": "execute_result",
          "data": {
            "text/plain": [
              "Primary education                  12694\n",
              "No formal education                 4474\n",
              "Secondary education                 4209\n",
              "Tertiary education                  1144\n",
              "Vocational/Specialised training      801\n",
              "6                                     27\n",
              "Other/Dont know/RTA                    8\n",
              "Name: education_level, dtype: int64"
            ]
          },
          "metadata": {
            "tags": []
          },
          "execution_count": 581
        }
      ]
    },
    {
      "cell_type": "code",
      "metadata": {
        "id": "CUvOkYhx1MDq",
        "colab_type": "code",
        "colab": {
          "base_uri": "https://localhost:8080/",
          "height": 102
        },
        "outputId": "c6e8d8d6-7185-4b26-e6be-90a62f1cf371"
      },
      "source": [
        "# We can also check the frequency table of 'country' variable\n",
        "# to each the number of records by country\n",
        "\n",
        "finance.country.value_counts()"
      ],
      "execution_count": null,
      "outputs": [
        {
          "output_type": "execute_result",
          "data": {
            "text/plain": [
              "Rwanda      8684\n",
              "Tanzania    6514\n",
              "Kenya       6064\n",
              "Uganda      2095\n",
              "Name: country, dtype: int64"
            ]
          },
          "metadata": {
            "tags": []
          },
          "execution_count": 582
        }
      ]
    },
    {
      "cell_type": "code",
      "metadata": {
        "id": "JO4iyZs20u-8",
        "colab_type": "code",
        "colab": {
          "base_uri": "https://localhost:8080/",
          "height": 490
        },
        "outputId": "f0531ad5-d573-441e-def2-92a92f723621"
      },
      "source": [
        "# Next, we can plot a histogram to show the distribution of \n",
        "# age and household size in the dataset\n",
        "fig,ax=plt.subplots(1,2,figsize=(20,10))\n",
        "finance['respondent_age'].plot.hist(ax=ax[0],bins=10,edgecolor='black',color='mediumvioletred')\n",
        "ax[0].set_title('Age Distribution')\n",
        "x1=list(range(0,85,5))\n",
        "ax[0].set_xticks(x1)\n",
        "finance['household_size'].plot.hist(ax=ax[1],color='royalblue',bins=10,edgecolor='black')\n",
        "ax[1].set_title('Distribution of Household Size')\n",
        "x2=list(range(0,20,2))\n",
        "ax[1].set_xticks(x2)\n",
        "plt.show()"
      ],
      "execution_count": null,
      "outputs": [
        {
          "output_type": "display_data",
          "data": {
            "image/png": "[encoded data removed]",
            "text/plain": [
              "<Figure size 1440x720 with 2 Axes>"
            ]
          },
          "metadata": {
            "tags": [],
            "needs_background": "light"
          }
        }
      ]
    },
    {
      "cell_type": "code",
      "metadata": {
        "id": "iRHUvzC55Tdf",
        "colab_type": "code",
        "colab": {
          "base_uri": "https://localhost:8080/",
          "height": 405
        },
        "outputId": "ea4fe89a-94f0-4ee1-e315-bfbda58b4f10"
      },
      "source": [
        "# We can plot various bar charts\n",
        "# to help visualize other statistics\n",
        "\n",
        "fig,ax=plt.subplots(1,2,figsize=(15,6))\n",
        "sns.countplot('has_a_bank_account',data=finance,ax=ax[0])\n",
        "ax[0].set_title('Bank Account Status')\n",
        "sns.countplot('location_type',data=finance,ax=ax[1])\n",
        "ax[1].set_title('Location Type')\n",
        "\n",
        "plt.show()"
      ],
      "execution_count": null,
      "outputs": [
        {
          "output_type": "display_data",
          "data": {
            "image/png": "[encoded data removed]",
            "text/plain": [
              "<Figure size 1080x432 with 2 Axes>"
            ]
          },
          "metadata": {
            "tags": [],
            "needs_background": "light"
          }
        }
      ]
    },
    {
      "cell_type": "code",
      "metadata": {
        "id": "lxmq1hnkCV3F",
        "colab_type": "code",
        "colab": {
          "base_uri": "https://localhost:8080/",
          "height": 430
        },
        "outputId": "2c75329a-3c87-48a5-daa7-42399dcd96c5"
      },
      "source": [
        "# Bar chart for 'marital status' variable\n",
        "\n",
        "finance['marital_status'].value_counts().plot.bar(rot =0,figsize=(10,5))\n",
        "plt.xlabel(\"Marital status\")\n",
        "plt.ylabel(\"Count\")\n",
        "plt.title(\"Marital Status of the Respondent \")\n",
        "plt.xticks(rotation = 45)\n",
        "plt.show()"
      ],
      "execution_count": null,
      "outputs": [
        {
          "output_type": "display_data",
          "data": {
            "image/png": "[encoded data removed]",
            "text/plain": [
              "<Figure size 720x360 with 1 Axes>"
            ]
          },
          "metadata": {
            "tags": [],
            "needs_background": "light"
          }
        }
      ]
    },
    {
      "cell_type": "code",
      "metadata": {
        "id": "LvV5-0_XEQL-",
        "colab_type": "code",
        "colab": {
          "base_uri": "https://localhost:8080/",
          "height": 415
        },
        "outputId": "f07aec83-2417-44df-f8d4-a1a4ad6aa894"
      },
      "source": [
        "# Bar chart for 'relation to household head' variable\n",
        "\n",
        "finance['relationship_with_head'].value_counts().plot.bar(rot =0,figsize=(10,5))\n",
        "plt.xlabel(\"relation to household head\")\n",
        "plt.ylabel(\"Count\")\n",
        "plt.title(\"How the Respondent is Related to Household Head\")\n",
        "plt.xticks(rotation = 45)\n",
        "plt.show()"
      ],
      "execution_count": null,
      "outputs": [
        {
          "output_type": "display_data",
          "data": {
            "image/png": "[encoded data removed]",
            "text/plain": [
              "<Figure size 720x360 with 1 Axes>"
            ]
          },
          "metadata": {
            "tags": [],
            "needs_background": "light"
          }
        }
      ]
    },
    {
      "cell_type": "code",
      "metadata": {
        "id": "wAdGJjwq9iLn",
        "colab_type": "code",
        "colab": {
          "base_uri": "https://localhost:8080/",
          "height": 351
        },
        "outputId": "64ad2e2a-b5b3-4063-c5e9-8432bb6af4d4"
      },
      "source": [
        "# Pie chart showing percentage distribution of gender variable\n",
        "# and 'has_cell_phone' variable\n",
        "\n",
        "fig,ax=plt.subplots(1,2,figsize=(12,6))\n",
        "colors = ['firebrick', 'lightcoral']\n",
        "finance['respondent_gender'].value_counts().plot.pie(explode=[0,0.1],colors=colors, autopct='%1.1f%%',ax=ax[0],shadow=True)\n",
        "ax[0].set_title('Gender')\n",
        "ax[0].set_ylabel('')\n",
        "finance['has_a_cell_phone'].value_counts().plot.pie(explode=[0,0.1],colors=colors, autopct='%1.1f%%',ax=ax[1],shadow=True)\n",
        "ax[1].set_title('Owning a Cell Phone')\n",
        "ax[1].set_ylabel('')\n",
        "plt.show()"
      ],
      "execution_count": null,
      "outputs": [
        {
          "output_type": "display_data",
          "data": {
            "image/png": "[encoded data removed]",
            "text/plain": [
              "<Figure size 864x432 with 2 Axes>"
            ]
          },
          "metadata": {
            "tags": []
          }
        }
      ]
    },
    {
      "cell_type": "markdown",
      "metadata": {
        "id": "LKIJJd_LBdL_",
        "colab_type": "text"
      },
      "source": [
        "### Measures of Central Tendency"
      ]
    },
    {
      "cell_type": "code",
      "metadata": {
        "id": "gsgNiAj0BhOC",
        "colab_type": "code",
        "colab": {
          "base_uri": "https://localhost:8080/",
          "height": 51
        },
        "outputId": "d7bc8072-fead-4af8-d29a-f60545ee0bfd"
      },
      "source": [
        "# We can check the mean, mode and median of ages in the dataset\n",
        "mean_age = finance['respondent_age'].mean()\n",
        "median_age = finance['respondent_age'].median()\n",
        "mode_age = finance['respondent_age'].mode()\n",
        "print(mean_age, median_age, mode_age)\n",
        "\n",
        "# We can see that the mean age is 38, median age is 35 and mode age is 30"
      ],
      "execution_count": null,
      "outputs": [
        {
          "output_type": "stream",
          "text": [
            "38.80532602645888 35.0 0    30.0\n",
            "dtype: float64\n"
          ],
          "name": "stdout"
        }
      ]
    },
    {
      "cell_type": "code",
      "metadata": {
        "id": "oNGm1IYDDg-8",
        "colab_type": "code",
        "colab": {
          "base_uri": "https://localhost:8080/",
          "height": 51
        },
        "outputId": "0a4ba367-ef41-4052-b3ae-123fea2790ec"
      },
      "source": [
        "# Checking the mean, mode and median of hosehold sizes in the dataset\n",
        "mean_hsize = finance['household_size'].mean()\n",
        "median_hsize = finance['household_size'].median()\n",
        "mode_hsize = finance['household_size'].mode()\n",
        "print(mean_hsize, median_hsize, mode_hsize)\n",
        "\n",
        "# The mean, median and mode of household size variable are 3, 3 and 2 respectively"
      ],
      "execution_count": null,
      "outputs": [
        {
          "output_type": "stream",
          "text": [
            "3.687588303292375 3.0 0    2.0\n",
            "dtype: float64\n"
          ],
          "name": "stdout"
        }
      ]
    },
    {
      "cell_type": "markdown",
      "metadata": {
        "id": "IcLnjrmMGNUS",
        "colab_type": "text"
      },
      "source": [
        "### Measures of Dispersion"
      ]
    },
    {
      "cell_type": "code",
      "metadata": {
        "id": "zDmUy9seGQu2",
        "colab_type": "code",
        "colab": {
          "base_uri": "https://localhost:8080/",
          "height": 102
        },
        "outputId": "7912d5b0-5e3a-45e5-db69-fa7bb06fd6aa"
      },
      "source": [
        "# Checking the various measures of dispersion for the age variable\n",
        "# standard deviation, variance, range, interquatile range, skewness and kurtosis\n",
        "\n",
        "age_std = finance['respondent_age'].std()\n",
        "age_var = finance['respondent_age'].var()\n",
        "\n",
        "age_max = finance['respondent_age'].max()\n",
        "age_min = finance['respondent_age'].min()\n",
        "age_range = age_max - age_min\n",
        "\n",
        "age_skew = finance['respondent_age'].skew()\n",
        "age_kurt = finance['respondent_age'].kurt()\n",
        "\n",
        "print('Standard Deviation of Age variable is ' + str(age_std))\n",
        "print('Variance of Age variable is ' + str(age_var))\n",
        "print('Range of Age variable is ' + str(age_range))\n",
        "print('Skewness of Age variable is ' + str(age_skew))\n",
        "print('Kurtosis of Age variable is ' + str(age_kurt))\n"
      ],
      "execution_count": null,
      "outputs": [
        {
          "output_type": "stream",
          "text": [
            "Standard Deviation of Age variable is 16.521527131910133\n",
            "Variance of Age variable is 272.96085877044266\n",
            "Range of Age variable is 84.0\n",
            "Skewness of Age variable is 0.8403528775777741\n",
            "Kurtosis of Age variable is 0.09719678738690396\n"
          ],
          "name": "stdout"
        }
      ]
    },
    {
      "cell_type": "code",
      "metadata": {
        "id": "Oi6hYFDtH2kk",
        "colab_type": "code",
        "colab": {
          "base_uri": "https://localhost:8080/",
          "height": 170
        },
        "outputId": "f88b92af-94e2-43e5-d390-5497a93a1cd1"
      },
      "source": [
        "# Summary of above statistics for age attribute\n",
        "\n",
        "finance['respondent_age'].describe()"
      ],
      "execution_count": null,
      "outputs": [
        {
          "output_type": "execute_result",
          "data": {
            "text/plain": [
              "count    23357.000000\n",
              "mean        38.805326\n",
              "std         16.521527\n",
              "min         16.000000\n",
              "25%         26.000000\n",
              "50%         35.000000\n",
              "75%         49.000000\n",
              "max        100.000000\n",
              "Name: respondent_age, dtype: float64"
            ]
          },
          "metadata": {
            "tags": []
          },
          "execution_count": 591
        }
      ]
    },
    {
      "cell_type": "code",
      "metadata": {
        "id": "eqIef9dQIuYS",
        "colab_type": "code",
        "colab": {
          "base_uri": "https://localhost:8080/",
          "height": 102
        },
        "outputId": "c5e0e458-61e7-4c4d-891d-a385dbc97e6e"
      },
      "source": [
        "# Checking the various measures of dispersion for the household size variable\n",
        "# standard deviation, variance, range, interquatile range, skewness and kurtosis\n",
        "\n",
        "hsize_std = finance['household_size'].std()\n",
        "hsize_var = finance['household_size'].var()\n",
        "\n",
        "hsize_max = finance['household_size'].max()\n",
        "hsize_min = finance['household_size'].min()\n",
        "hsize_range = hsize_max - hsize_min\n",
        "\n",
        "hsize_skew = finance['household_size'].skew()\n",
        "hsize_kurt = finance['household_size'].kurt()\n",
        "\n",
        "print('Standard Deviation of Household Size variable is ' + str(hsize_std))\n",
        "print('Variance of Household Size variable is ' + str(hsize_var))\n",
        "print('Range of Household Size variable is ' + str(hsize_range))\n",
        "print('Skewness of Household Size variable is ' + str(hsize_skew))\n",
        "print('Kurtosis of Household Size variable is ' + str(hsize_kurt))"
      ],
      "execution_count": null,
      "outputs": [
        {
          "output_type": "stream",
          "text": [
            "Standard Deviation of Household Size variable is 2.2809903775845206\n",
            "Variance of Household Size variable is 5.202917102633174\n",
            "Range of Household Size variable is 21.0\n",
            "Skewness of Household Size variable is 0.9747175002958918\n",
            "Kurtosis of Household Size variable is 1.1550663154603718\n"
          ],
          "name": "stdout"
        }
      ]
    },
    {
      "cell_type": "code",
      "metadata": {
        "id": "c_G4x3H9JaMC",
        "colab_type": "code",
        "colab": {
          "base_uri": "https://localhost:8080/",
          "height": 170
        },
        "outputId": "b4e19829-2453-4489-92aa-f84e9e97c490"
      },
      "source": [
        "# Summary of above statistics for household size attribute\n",
        "\n",
        "finance['household_size'].describe()"
      ],
      "execution_count": null,
      "outputs": [
        {
          "output_type": "execute_result",
          "data": {
            "text/plain": [
              "count    23357.000000\n",
              "mean         3.687588\n",
              "std          2.280990\n",
              "min          0.000000\n",
              "25%          2.000000\n",
              "50%          3.000000\n",
              "75%          5.000000\n",
              "max         21.000000\n",
              "Name: household_size, dtype: float64"
            ]
          },
          "metadata": {
            "tags": []
          },
          "execution_count": 593
        }
      ]
    },
    {
      "cell_type": "markdown",
      "metadata": {
        "id": "VtqFXjuZDu8H",
        "colab_type": "text"
      },
      "source": [
        "## Bivariate Analysis"
      ]
    },
    {
      "cell_type": "markdown",
      "metadata": {
        "id": "rqZMAhBSP296",
        "colab_type": "text"
      },
      "source": [
        "> In this analysis, we will check the relationship between bank account status and other variables. For instance, we need to ascertain whether females are likely to have bank accounts as opposed to males or whether individuals in urban areas are more likely to use commercial banks compared to those in rural areas. This way, we can begin to profile characteristics unique to persons likely to have bank accounts."
      ]
    },
    {
      "cell_type": "code",
      "metadata": {
        "id": "ycpn9rtqKnVp",
        "colab_type": "code",
        "colab": {
          "base_uri": "https://localhost:8080/",
          "height": 567
        },
        "outputId": "b7572b96-9dca-4751-8cb1-b121a9b72419"
      },
      "source": [
        "# Ploting the bivariate summaries and recording our observations\n",
        "\n",
        "sns.pairplot(finance)\n",
        "plt.show()"
      ],
      "execution_count": null,
      "outputs": [
        {
          "output_type": "display_data",
          "data": {
            "image/png": "[encoded data removed]",
            "text/plain": [
              "<Figure size 540x540 with 12 Axes>"
            ]
          },
          "metadata": {
            "tags": [],
            "needs_background": "light"
          }
        }
      ]
    },
    {
      "cell_type": "code",
      "metadata": {
        "id": "zTDm3-G4LNDT",
        "colab_type": "code",
        "colab": {
          "base_uri": "https://localhost:8080/",
          "height": 270
        },
        "outputId": "a717cde3-dbf4-45e3-c6bc-88d2f99bc087"
      },
      "source": [
        "# Plotting the Pearson correlation coefficient among numeric variables\n",
        "# We can see that the three varibles below are not correlated\n",
        "# since the correlation coefficients are close to 0\n",
        "\n",
        "sns.heatmap(finance.corr(),annot=True)\n",
        "plt.show()"
      ],
      "execution_count": null,
      "outputs": [
        {
          "output_type": "display_data",
          "data": {
            "image/png": "[encoded data removed]",
            "text/plain": [
              "<Figure size 432x288 with 2 Axes>"
            ]
          },
          "metadata": {
            "tags": [],
            "needs_background": "light"
          }
        }
      ]
    },
    {
      "cell_type": "code",
      "metadata": {
        "id": "IWm446scT6yN",
        "colab_type": "code",
        "colab": {
          "base_uri": "https://localhost:8080/",
          "height": 329
        },
        "outputId": "16e8038b-49e5-4711-9bd3-b9ba7f246803"
      },
      "source": [
        "sns.lmplot('respondent_age', \"household_size\", finance, scatter_kws={'marker':'o', 'color': 'indianred'}, \n",
        "           line_kws={'linewidth':1,'color':'blue'}, height = 4, aspect = 2)\n",
        "\n",
        "plt.title(\"Correlation of Respondent's Age to household_size\")\n",
        "plt.xlabel('Age')\n",
        "plt.ylabel(\"Household Size\")"
      ],
      "execution_count": null,
      "outputs": [
        {
          "output_type": "execute_result",
          "data": {
            "text/plain": [
              "Text(9.925000000000004, 0.5, 'Household Size')"
            ]
          },
          "metadata": {
            "tags": []
          },
          "execution_count": 596
        },
        {
          "output_type": "display_data",
          "data": {
            "image/png": "[encoded data removed]",
            "text/plain": [
              "<Figure size 576x288 with 1 Axes>"
            ]
          },
          "metadata": {
            "tags": [],
            "needs_background": "light"
          }
        }
      ]
    },
    {
      "cell_type": "code",
      "metadata": {
        "id": "75jqCuigX0dj",
        "colab_type": "code",
        "colab": {
          "base_uri": "https://localhost:8080/",
          "height": 166
        },
        "outputId": "e399062e-8325-468c-e4a6-e72f976982ab"
      },
      "source": [
        "# We can compare various categorical variables with each other\n",
        "# To begin we can check how many individuals have bank accounts, based\n",
        "# on their gender and type of location\n",
        "\n",
        "pd.crosstab([finance.respondent_gender,finance.has_a_bank_account]\n",
        "            ,finance.location_type,margins=True).style.background_gradient(cmap='Pastel1_r')\n",
        "\n",
        "# We see that generally, more men have bank accounts compared to women\n",
        "# For females, people who live in urban areas are more likely to have\n",
        "# bank accounts relative to those who live in rural areas. The opposite is true for males"
      ],
      "execution_count": null,
      "outputs": [
        {
          "output_type": "execute_result",
          "data": {
            "text/html": [
              "<style  type=\"text/css\" >\n",
              "    #T_888fbf14_e3ad_11ea_be14_0242ac1c0002row0_col0 {\n",
              "            background-color:  #fed9a6;\n",
              "            color:  #000000;\n",
              "        }    #T_888fbf14_e3ad_11ea_be14_0242ac1c0002row0_col1 {\n",
              "            background-color:  #fed9a6;\n",
              "            color:  #000000;\n",
              "        }    #T_888fbf14_e3ad_11ea_be14_0242ac1c0002row0_col2 {\n",
              "            background-color:  #fed9a6;\n",
              "            color:  #000000;\n",
              "        }    #T_888fbf14_e3ad_11ea_be14_0242ac1c0002row1_col0 {\n",
              "            background-color:  #f2f2f2;\n",
              "            color:  #000000;\n",
              "        }    #T_888fbf14_e3ad_11ea_be14_0242ac1c0002row1_col1 {\n",
              "            background-color:  #f2f2f2;\n",
              "            color:  #000000;\n",
              "        }    #T_888fbf14_e3ad_11ea_be14_0242ac1c0002row1_col2 {\n",
              "            background-color:  #f2f2f2;\n",
              "            color:  #000000;\n",
              "        }    #T_888fbf14_e3ad_11ea_be14_0242ac1c0002row2_col0 {\n",
              "            background-color:  #e5d8bd;\n",
              "            color:  #000000;\n",
              "        }    #T_888fbf14_e3ad_11ea_be14_0242ac1c0002row2_col1 {\n",
              "            background-color:  #e5d8bd;\n",
              "            color:  #000000;\n",
              "        }    #T_888fbf14_e3ad_11ea_be14_0242ac1c0002row2_col2 {\n",
              "            background-color:  #e5d8bd;\n",
              "            color:  #000000;\n",
              "        }    #T_888fbf14_e3ad_11ea_be14_0242ac1c0002row3_col0 {\n",
              "            background-color:  #f2f2f2;\n",
              "            color:  #000000;\n",
              "        }    #T_888fbf14_e3ad_11ea_be14_0242ac1c0002row3_col1 {\n",
              "            background-color:  #f2f2f2;\n",
              "            color:  #000000;\n",
              "        }    #T_888fbf14_e3ad_11ea_be14_0242ac1c0002row3_col2 {\n",
              "            background-color:  #f2f2f2;\n",
              "            color:  #000000;\n",
              "        }    #T_888fbf14_e3ad_11ea_be14_0242ac1c0002row4_col0 {\n",
              "            background-color:  #fbb4ae;\n",
              "            color:  #000000;\n",
              "        }    #T_888fbf14_e3ad_11ea_be14_0242ac1c0002row4_col1 {\n",
              "            background-color:  #fbb4ae;\n",
              "            color:  #000000;\n",
              "        }    #T_888fbf14_e3ad_11ea_be14_0242ac1c0002row4_col2 {\n",
              "            background-color:  #fbb4ae;\n",
              "            color:  #000000;\n",
              "        }</style><table id=\"T_888fbf14_e3ad_11ea_be14_0242ac1c0002\" ><thead>    <tr>        <th class=\"blank\" ></th>        <th class=\"index_name level0\" >location_type</th>        <th class=\"col_heading level0 col0\" >Rural</th>        <th class=\"col_heading level0 col1\" >Urban</th>        <th class=\"col_heading level0 col2\" >All</th>    </tr>    <tr>        <th class=\"index_name level0\" >respondent_gender</th>        <th class=\"index_name level1\" >has_a_bank_account</th>        <th class=\"blank\" ></th>        <th class=\"blank\" ></th>        <th class=\"blank\" ></th>    </tr></thead><tbody>\n",
              "                <tr>\n",
              "                        <th id=\"T_888fbf14_e3ad_11ea_be14_0242ac1c0002level0_row0\" class=\"row_heading level0 row0\" rowspan=2>Female</th>\n",
              "                        <th id=\"T_888fbf14_e3ad_11ea_be14_0242ac1c0002level1_row0\" class=\"row_heading level1 row0\" >No</th>\n",
              "                        <td id=\"T_888fbf14_e3ad_11ea_be14_0242ac1c0002row0_col0\" class=\"data row0 col0\" >7766</td>\n",
              "                        <td id=\"T_888fbf14_e3ad_11ea_be14_0242ac1c0002row0_col1\" class=\"data row0 col1\" >4531</td>\n",
              "                        <td id=\"T_888fbf14_e3ad_11ea_be14_0242ac1c0002row0_col2\" class=\"data row0 col2\" >12297</td>\n",
              "            </tr>\n",
              "            <tr>\n",
              "                                <th id=\"T_888fbf14_e3ad_11ea_be14_0242ac1c0002level1_row1\" class=\"row_heading level1 row1\" >Yes</th>\n",
              "                        <td id=\"T_888fbf14_e3ad_11ea_be14_0242ac1c0002row1_col0\" class=\"data row1 col0\" >723</td>\n",
              "                        <td id=\"T_888fbf14_e3ad_11ea_be14_0242ac1c0002row1_col1\" class=\"data row1 col1\" >757</td>\n",
              "                        <td id=\"T_888fbf14_e3ad_11ea_be14_0242ac1c0002row1_col2\" class=\"data row1 col2\" >1480</td>\n",
              "            </tr>\n",
              "            <tr>\n",
              "                        <th id=\"T_888fbf14_e3ad_11ea_be14_0242ac1c0002level0_row2\" class=\"row_heading level0 row2\" rowspan=2>Male</th>\n",
              "                        <th id=\"T_888fbf14_e3ad_11ea_be14_0242ac1c0002level1_row2\" class=\"row_heading level1 row2\" >No</th>\n",
              "                        <td id=\"T_888fbf14_e3ad_11ea_be14_0242ac1c0002row2_col0\" class=\"data row2 col0\" >4838</td>\n",
              "                        <td id=\"T_888fbf14_e3ad_11ea_be14_0242ac1c0002row2_col1\" class=\"data row2 col1\" >2925</td>\n",
              "                        <td id=\"T_888fbf14_e3ad_11ea_be14_0242ac1c0002row2_col2\" class=\"data row2 col2\" >7763</td>\n",
              "            </tr>\n",
              "            <tr>\n",
              "                                <th id=\"T_888fbf14_e3ad_11ea_be14_0242ac1c0002level1_row3\" class=\"row_heading level1 row3\" >Yes</th>\n",
              "                        <td id=\"T_888fbf14_e3ad_11ea_be14_0242ac1c0002row3_col0\" class=\"data row3 col0\" >940</td>\n",
              "                        <td id=\"T_888fbf14_e3ad_11ea_be14_0242ac1c0002row3_col1\" class=\"data row3 col1\" >877</td>\n",
              "                        <td id=\"T_888fbf14_e3ad_11ea_be14_0242ac1c0002row3_col2\" class=\"data row3 col2\" >1817</td>\n",
              "            </tr>\n",
              "            <tr>\n",
              "                        <th id=\"T_888fbf14_e3ad_11ea_be14_0242ac1c0002level0_row4\" class=\"row_heading level0 row4\" >All</th>\n",
              "                        <th id=\"T_888fbf14_e3ad_11ea_be14_0242ac1c0002level1_row4\" class=\"row_heading level1 row4\" ></th>\n",
              "                        <td id=\"T_888fbf14_e3ad_11ea_be14_0242ac1c0002row4_col0\" class=\"data row4 col0\" >14267</td>\n",
              "                        <td id=\"T_888fbf14_e3ad_11ea_be14_0242ac1c0002row4_col1\" class=\"data row4 col1\" >9090</td>\n",
              "                        <td id=\"T_888fbf14_e3ad_11ea_be14_0242ac1c0002row4_col2\" class=\"data row4 col2\" >23357</td>\n",
              "            </tr>\n",
              "    </tbody></table>"
            ],
            "text/plain": [
              "<pandas.io.formats.style.Styler at 0x7fe7d40be0b8>"
            ]
          },
          "metadata": {
            "tags": []
          },
          "execution_count": 597
        }
      ]
    },
    {
      "cell_type": "code",
      "metadata": {
        "id": "YNg363GFh0F-",
        "colab_type": "code",
        "colab": {
          "base_uri": "https://localhost:8080/",
          "height": 166
        },
        "outputId": "ace8f7b2-3f93-4400-99a7-aec8f924ca3c"
      },
      "source": [
        "# We can also check how many individuals have bank accounts, based\n",
        "# on their marital status and also their phone ownership status\n",
        "\n",
        "pd.crosstab([finance.has_a_cell_phone,finance.has_a_bank_account]\n",
        "            ,finance.marital_status,margins=True).style.background_gradient(cmap='Pastel1_r')\n",
        "\n",
        "# We see that generally, individuals who have cell phones are likely to have have bank accounts compared \n",
        "# to those who don't have cell phones.\n"
      ],
      "execution_count": null,
      "outputs": [
        {
          "output_type": "execute_result",
          "data": {
            "text/html": [
              "<style  type=\"text/css\" >\n",
              "    #T_88a63fdc_e3ad_11ea_be14_0242ac1c0002row0_col0 {\n",
              "            background-color:  #e5d8bd;\n",
              "            color:  #000000;\n",
              "        }    #T_88a63fdc_e3ad_11ea_be14_0242ac1c0002row0_col1 {\n",
              "            background-color:  #fddaec;\n",
              "            color:  #000000;\n",
              "        }    #T_88a63fdc_e3ad_11ea_be14_0242ac1c0002row0_col2 {\n",
              "            background-color:  #fddaec;\n",
              "            color:  #000000;\n",
              "        }    #T_88a63fdc_e3ad_11ea_be14_0242ac1c0002row0_col3 {\n",
              "            background-color:  #e5d8bd;\n",
              "            color:  #000000;\n",
              "        }    #T_88a63fdc_e3ad_11ea_be14_0242ac1c0002row0_col4 {\n",
              "            background-color:  #ffffcc;\n",
              "            color:  #000000;\n",
              "        }    #T_88a63fdc_e3ad_11ea_be14_0242ac1c0002row0_col5 {\n",
              "            background-color:  #e5d8bd;\n",
              "            color:  #000000;\n",
              "        }    #T_88a63fdc_e3ad_11ea_be14_0242ac1c0002row1_col0 {\n",
              "            background-color:  #f2f2f2;\n",
              "            color:  #000000;\n",
              "        }    #T_88a63fdc_e3ad_11ea_be14_0242ac1c0002row1_col1 {\n",
              "            background-color:  #f2f2f2;\n",
              "            color:  #000000;\n",
              "        }    #T_88a63fdc_e3ad_11ea_be14_0242ac1c0002row1_col2 {\n",
              "            background-color:  #f2f2f2;\n",
              "            color:  #000000;\n",
              "        }    #T_88a63fdc_e3ad_11ea_be14_0242ac1c0002row1_col3 {\n",
              "            background-color:  #f2f2f2;\n",
              "            color:  #000000;\n",
              "        }    #T_88a63fdc_e3ad_11ea_be14_0242ac1c0002row1_col4 {\n",
              "            background-color:  #f2f2f2;\n",
              "            color:  #000000;\n",
              "        }    #T_88a63fdc_e3ad_11ea_be14_0242ac1c0002row1_col5 {\n",
              "            background-color:  #f2f2f2;\n",
              "            color:  #000000;\n",
              "        }    #T_88a63fdc_e3ad_11ea_be14_0242ac1c0002row2_col0 {\n",
              "            background-color:  #decbe4;\n",
              "            color:  #000000;\n",
              "        }    #T_88a63fdc_e3ad_11ea_be14_0242ac1c0002row2_col1 {\n",
              "            background-color:  #decbe4;\n",
              "            color:  #000000;\n",
              "        }    #T_88a63fdc_e3ad_11ea_be14_0242ac1c0002row2_col2 {\n",
              "            background-color:  #decbe4;\n",
              "            color:  #000000;\n",
              "        }    #T_88a63fdc_e3ad_11ea_be14_0242ac1c0002row2_col3 {\n",
              "            background-color:  #decbe4;\n",
              "            color:  #000000;\n",
              "        }    #T_88a63fdc_e3ad_11ea_be14_0242ac1c0002row2_col4 {\n",
              "            background-color:  #fed9a6;\n",
              "            color:  #000000;\n",
              "        }    #T_88a63fdc_e3ad_11ea_be14_0242ac1c0002row2_col5 {\n",
              "            background-color:  #decbe4;\n",
              "            color:  #000000;\n",
              "        }    #T_88a63fdc_e3ad_11ea_be14_0242ac1c0002row3_col0 {\n",
              "            background-color:  #f2f2f2;\n",
              "            color:  #000000;\n",
              "        }    #T_88a63fdc_e3ad_11ea_be14_0242ac1c0002row3_col1 {\n",
              "            background-color:  #e5d8bd;\n",
              "            color:  #000000;\n",
              "        }    #T_88a63fdc_e3ad_11ea_be14_0242ac1c0002row3_col2 {\n",
              "            background-color:  #fddaec;\n",
              "            color:  #000000;\n",
              "        }    #T_88a63fdc_e3ad_11ea_be14_0242ac1c0002row3_col3 {\n",
              "            background-color:  #fddaec;\n",
              "            color:  #000000;\n",
              "        }    #T_88a63fdc_e3ad_11ea_be14_0242ac1c0002row3_col4 {\n",
              "            background-color:  #f2f2f2;\n",
              "            color:  #000000;\n",
              "        }    #T_88a63fdc_e3ad_11ea_be14_0242ac1c0002row3_col5 {\n",
              "            background-color:  #fddaec;\n",
              "            color:  #000000;\n",
              "        }    #T_88a63fdc_e3ad_11ea_be14_0242ac1c0002row4_col0 {\n",
              "            background-color:  #fbb4ae;\n",
              "            color:  #000000;\n",
              "        }    #T_88a63fdc_e3ad_11ea_be14_0242ac1c0002row4_col1 {\n",
              "            background-color:  #fbb4ae;\n",
              "            color:  #000000;\n",
              "        }    #T_88a63fdc_e3ad_11ea_be14_0242ac1c0002row4_col2 {\n",
              "            background-color:  #fbb4ae;\n",
              "            color:  #000000;\n",
              "        }    #T_88a63fdc_e3ad_11ea_be14_0242ac1c0002row4_col3 {\n",
              "            background-color:  #fbb4ae;\n",
              "            color:  #000000;\n",
              "        }    #T_88a63fdc_e3ad_11ea_be14_0242ac1c0002row4_col4 {\n",
              "            background-color:  #fbb4ae;\n",
              "            color:  #000000;\n",
              "        }    #T_88a63fdc_e3ad_11ea_be14_0242ac1c0002row4_col5 {\n",
              "            background-color:  #fbb4ae;\n",
              "            color:  #000000;\n",
              "        }</style><table id=\"T_88a63fdc_e3ad_11ea_be14_0242ac1c0002\" ><thead>    <tr>        <th class=\"blank\" ></th>        <th class=\"index_name level0\" >marital_status</th>        <th class=\"col_heading level0 col0\" >Divorced/Seperated</th>        <th class=\"col_heading level0 col1\" >Dont know</th>        <th class=\"col_heading level0 col2\" >Married/Living together</th>        <th class=\"col_heading level0 col3\" >Single/Never Married</th>        <th class=\"col_heading level0 col4\" >Widowed</th>        <th class=\"col_heading level0 col5\" >All</th>    </tr>    <tr>        <th class=\"index_name level0\" >has_a_cell_phone</th>        <th class=\"index_name level1\" >has_a_bank_account</th>        <th class=\"blank\" ></th>        <th class=\"blank\" ></th>        <th class=\"blank\" ></th>        <th class=\"blank\" ></th>        <th class=\"blank\" ></th>        <th class=\"blank\" ></th>    </tr></thead><tbody>\n",
              "                <tr>\n",
              "                        <th id=\"T_88a63fdc_e3ad_11ea_be14_0242ac1c0002level0_row0\" class=\"row_heading level0 row0\" rowspan=2>No</th>\n",
              "                        <th id=\"T_88a63fdc_e3ad_11ea_be14_0242ac1c0002level1_row0\" class=\"row_heading level1 row0\" >No</th>\n",
              "                        <td id=\"T_88a63fdc_e3ad_11ea_be14_0242ac1c0002row0_col0\" class=\"data row0 col0\" >606</td>\n",
              "                        <td id=\"T_88a63fdc_e3ad_11ea_be14_0242ac1c0002row0_col1\" class=\"data row0 col1\" >1</td>\n",
              "                        <td id=\"T_88a63fdc_e3ad_11ea_be14_0242ac1c0002row0_col2\" class=\"data row0 col2\" >1910</td>\n",
              "                        <td id=\"T_88a63fdc_e3ad_11ea_be14_0242ac1c0002row0_col3\" class=\"data row0 col3\" >2322</td>\n",
              "                        <td id=\"T_88a63fdc_e3ad_11ea_be14_0242ac1c0002row0_col4\" class=\"data row0 col4\" >1074</td>\n",
              "                        <td id=\"T_88a63fdc_e3ad_11ea_be14_0242ac1c0002row0_col5\" class=\"data row0 col5\" >5913</td>\n",
              "            </tr>\n",
              "            <tr>\n",
              "                                <th id=\"T_88a63fdc_e3ad_11ea_be14_0242ac1c0002level1_row1\" class=\"row_heading level1 row1\" >Yes</th>\n",
              "                        <td id=\"T_88a63fdc_e3ad_11ea_be14_0242ac1c0002row1_col0\" class=\"data row1 col0\" >7</td>\n",
              "                        <td id=\"T_88a63fdc_e3ad_11ea_be14_0242ac1c0002row1_col1\" class=\"data row1 col1\" >0</td>\n",
              "                        <td id=\"T_88a63fdc_e3ad_11ea_be14_0242ac1c0002row1_col2\" class=\"data row1 col2\" >41</td>\n",
              "                        <td id=\"T_88a63fdc_e3ad_11ea_be14_0242ac1c0002row1_col3\" class=\"data row1 col3\" >30</td>\n",
              "                        <td id=\"T_88a63fdc_e3ad_11ea_be14_0242ac1c0002row1_col4\" class=\"data row1 col4\" >26</td>\n",
              "                        <td id=\"T_88a63fdc_e3ad_11ea_be14_0242ac1c0002row1_col5\" class=\"data row1 col5\" >104</td>\n",
              "            </tr>\n",
              "            <tr>\n",
              "                        <th id=\"T_88a63fdc_e3ad_11ea_be14_0242ac1c0002level0_row2\" class=\"row_heading level0 row2\" rowspan=2>Yes</th>\n",
              "                        <th id=\"T_88a63fdc_e3ad_11ea_be14_0242ac1c0002level1_row2\" class=\"row_heading level1 row2\" >No</th>\n",
              "                        <td id=\"T_88a63fdc_e3ad_11ea_be14_0242ac1c0002row2_col0\" class=\"data row2 col0\" >1214</td>\n",
              "                        <td id=\"T_88a63fdc_e3ad_11ea_be14_0242ac1c0002row2_col1\" class=\"data row2 col1\" >5</td>\n",
              "                        <td id=\"T_88a63fdc_e3ad_11ea_be14_0242ac1c0002row2_col2\" class=\"data row2 col2\" >6931</td>\n",
              "                        <td id=\"T_88a63fdc_e3ad_11ea_be14_0242ac1c0002row2_col3\" class=\"data row2 col3\" >4626</td>\n",
              "                        <td id=\"T_88a63fdc_e3ad_11ea_be14_0242ac1c0002row2_col4\" class=\"data row2 col4\" >1371</td>\n",
              "                        <td id=\"T_88a63fdc_e3ad_11ea_be14_0242ac1c0002row2_col5\" class=\"data row2 col5\" >14147</td>\n",
              "            </tr>\n",
              "            <tr>\n",
              "                                <th id=\"T_88a63fdc_e3ad_11ea_be14_0242ac1c0002level1_row3\" class=\"row_heading level1 row3\" >Yes</th>\n",
              "                        <td id=\"T_88a63fdc_e3ad_11ea_be14_0242ac1c0002row3_col0\" class=\"data row3 col0\" >225</td>\n",
              "                        <td id=\"T_88a63fdc_e3ad_11ea_be14_0242ac1c0002row3_col1\" class=\"data row3 col1\" >2</td>\n",
              "                        <td id=\"T_88a63fdc_e3ad_11ea_be14_0242ac1c0002row3_col2\" class=\"data row3 col2\" >1820</td>\n",
              "                        <td id=\"T_88a63fdc_e3ad_11ea_be14_0242ac1c0002row3_col3\" class=\"data row3 col3\" >929</td>\n",
              "                        <td id=\"T_88a63fdc_e3ad_11ea_be14_0242ac1c0002row3_col4\" class=\"data row3 col4\" >217</td>\n",
              "                        <td id=\"T_88a63fdc_e3ad_11ea_be14_0242ac1c0002row3_col5\" class=\"data row3 col5\" >3193</td>\n",
              "            </tr>\n",
              "            <tr>\n",
              "                        <th id=\"T_88a63fdc_e3ad_11ea_be14_0242ac1c0002level0_row4\" class=\"row_heading level0 row4\" >All</th>\n",
              "                        <th id=\"T_88a63fdc_e3ad_11ea_be14_0242ac1c0002level1_row4\" class=\"row_heading level1 row4\" ></th>\n",
              "                        <td id=\"T_88a63fdc_e3ad_11ea_be14_0242ac1c0002row4_col0\" class=\"data row4 col0\" >2052</td>\n",
              "                        <td id=\"T_88a63fdc_e3ad_11ea_be14_0242ac1c0002row4_col1\" class=\"data row4 col1\" >8</td>\n",
              "                        <td id=\"T_88a63fdc_e3ad_11ea_be14_0242ac1c0002row4_col2\" class=\"data row4 col2\" >10702</td>\n",
              "                        <td id=\"T_88a63fdc_e3ad_11ea_be14_0242ac1c0002row4_col3\" class=\"data row4 col3\" >7907</td>\n",
              "                        <td id=\"T_88a63fdc_e3ad_11ea_be14_0242ac1c0002row4_col4\" class=\"data row4 col4\" >2688</td>\n",
              "                        <td id=\"T_88a63fdc_e3ad_11ea_be14_0242ac1c0002row4_col5\" class=\"data row4 col5\" >23357</td>\n",
              "            </tr>\n",
              "    </tbody></table>"
            ],
            "text/plain": [
              "<pandas.io.formats.style.Styler at 0x7fe7d4698ac8>"
            ]
          },
          "metadata": {
            "tags": []
          },
          "execution_count": 598
        }
      ]
    },
    {
      "cell_type": "code",
      "metadata": {
        "id": "TUeGYNcdwzLQ",
        "colab_type": "code",
        "colab": {
          "base_uri": "https://localhost:8080/",
          "height": 545
        },
        "outputId": "2877bf5d-dc44-473a-9f5b-0844d297690d"
      },
      "source": [
        "# Comparing education level and occupation vs having a bank account\n",
        "\n",
        "\n",
        "fig,ax=plt.subplots(1,2,figsize=(16,6))\n",
        "\n",
        "sns.countplot('education_level',hue='has_a_bank_account',data=finance,ax=ax[0])\n",
        "ax[0].set_title('Education vs Having a Bank Account')\n",
        "\n",
        "\n",
        "sns.countplot('occupation',hue='has_a_bank_account',data=finance,ax=ax[1])\n",
        "ax[1].set_title('Occupation vs Having a Bank Account')\n",
        "\n",
        "for ax in fig.axes:\n",
        "    plt.sca(ax)\n",
        "    plt.xticks(rotation=90)\n",
        "\n",
        "\n",
        "plt.show()"
      ],
      "execution_count": null,
      "outputs": [
        {
          "output_type": "display_data",
          "data": {
            "image/png": "[encoded data removed]",
            "text/plain": [
              "<Figure size 1152x432 with 2 Axes>"
            ]
          },
          "metadata": {
            "tags": [],
            "needs_background": "light"
          }
        }
      ]
    },
    {
      "cell_type": "code",
      "metadata": {
        "id": "slk68v-U4uSz",
        "colab_type": "code",
        "colab": {}
      },
      "source": [
        "# We need to change some categorical attributes to numeric\n",
        "# so that we can get a summary of all correlations\n",
        "# to whether a person has a bank account or not\n",
        "\n",
        "encode = {\"has_a_bank_account\": {\"Yes\":1, \"No\":0}, \"respondent_gender\": {\"Male\":1, \"Female\":0},\n",
        "          \"has_a_cell_phone\":{\"Yes\":1,\"No\":0}, \"location_type\": {\"Rural\":1, \"Urban\":0},\n",
        "          \"education_level\":{\"No formal education\":0,\"Primary education\":1, \"Secondary education\":2,\n",
        "                              \"Vocational/Specialised training\":3,\"Tertiary education\":4, \"Other/Dont know/RTA\":5},\n",
        "          \"relationship_with_head\":{\"Head of Household\":0, \"Child\":1, \"Parent\":2,\n",
        "                            \"Spouse\":3, \"Other relative\":4, \"Other non-relatives\":5}, \n",
        "          \"marital_status\":{\"Married/Living together\":0, \"Single/Never Married\":1, \"Divorced/Seperated\":2,\n",
        "                            \"Widowed\":3, \"Dont know\":4}}\n"
      ],
      "execution_count": null,
      "outputs": []
    },
    {
      "cell_type": "code",
      "metadata": {
        "id": "mhTDRscx7bB9",
        "colab_type": "code",
        "colab": {
          "base_uri": "https://localhost:8080/",
          "height": 326
        },
        "outputId": "3efc0a05-cdbf-4432-ed76-030b49b21906"
      },
      "source": [
        "finance.replace(encode, inplace = True)\n",
        "finance.head()"
      ],
      "execution_count": null,
      "outputs": [
        {
          "output_type": "execute_result",
          "data": {
            "text/html": [
              "<div>\n",
              "<style scoped>\n",
              "    .dataframe tbody tr th:only-of-type {\n",
              "        vertical-align: middle;\n",
              "    }\n",
              "\n",
              "    .dataframe tbody tr th {\n",
              "        vertical-align: top;\n",
              "    }\n",
              "\n",
              "    .dataframe thead th {\n",
              "        text-align: right;\n",
              "    }\n",
              "</style>\n",
              "<table border=\"1\" class=\"dataframe\">\n",
              "  <thead>\n",
              "    <tr style=\"text-align: right;\">\n",
              "      <th></th>\n",
              "      <th>country</th>\n",
              "      <th>year</th>\n",
              "      <th>uniqueid</th>\n",
              "      <th>has_a_bank_account</th>\n",
              "      <th>location_type</th>\n",
              "      <th>has_a_cell_phone</th>\n",
              "      <th>household_size</th>\n",
              "      <th>respondent_age</th>\n",
              "      <th>respondent_gender</th>\n",
              "      <th>relationship_with_head</th>\n",
              "      <th>marital_status</th>\n",
              "      <th>education_level</th>\n",
              "      <th>occupation</th>\n",
              "    </tr>\n",
              "  </thead>\n",
              "  <tbody>\n",
              "    <tr>\n",
              "      <th>0</th>\n",
              "      <td>Kenya</td>\n",
              "      <td>2018</td>\n",
              "      <td>uniqueid_1</td>\n",
              "      <td>1</td>\n",
              "      <td>1</td>\n",
              "      <td>1</td>\n",
              "      <td>3.0</td>\n",
              "      <td>24.0</td>\n",
              "      <td>0</td>\n",
              "      <td>3</td>\n",
              "      <td>0</td>\n",
              "      <td>2</td>\n",
              "      <td>Self employed</td>\n",
              "    </tr>\n",
              "    <tr>\n",
              "      <th>1</th>\n",
              "      <td>Kenya</td>\n",
              "      <td>2018</td>\n",
              "      <td>uniqueid_2</td>\n",
              "      <td>0</td>\n",
              "      <td>1</td>\n",
              "      <td>0</td>\n",
              "      <td>5.0</td>\n",
              "      <td>70.0</td>\n",
              "      <td>0</td>\n",
              "      <td>0</td>\n",
              "      <td>3</td>\n",
              "      <td>0</td>\n",
              "      <td>Government Dependent</td>\n",
              "    </tr>\n",
              "    <tr>\n",
              "      <th>2</th>\n",
              "      <td>Kenya</td>\n",
              "      <td>2018</td>\n",
              "      <td>uniqueid_3</td>\n",
              "      <td>1</td>\n",
              "      <td>0</td>\n",
              "      <td>1</td>\n",
              "      <td>5.0</td>\n",
              "      <td>26.0</td>\n",
              "      <td>1</td>\n",
              "      <td>4</td>\n",
              "      <td>1</td>\n",
              "      <td>3</td>\n",
              "      <td>Self employed</td>\n",
              "    </tr>\n",
              "    <tr>\n",
              "      <th>3</th>\n",
              "      <td>Kenya</td>\n",
              "      <td>2018</td>\n",
              "      <td>uniqueid_4</td>\n",
              "      <td>0</td>\n",
              "      <td>1</td>\n",
              "      <td>1</td>\n",
              "      <td>5.0</td>\n",
              "      <td>34.0</td>\n",
              "      <td>0</td>\n",
              "      <td>0</td>\n",
              "      <td>0</td>\n",
              "      <td>1</td>\n",
              "      <td>Formally employed Private</td>\n",
              "    </tr>\n",
              "    <tr>\n",
              "      <th>4</th>\n",
              "      <td>Kenya</td>\n",
              "      <td>2018</td>\n",
              "      <td>uniqueid_5</td>\n",
              "      <td>0</td>\n",
              "      <td>0</td>\n",
              "      <td>0</td>\n",
              "      <td>8.0</td>\n",
              "      <td>26.0</td>\n",
              "      <td>1</td>\n",
              "      <td>1</td>\n",
              "      <td>1</td>\n",
              "      <td>1</td>\n",
              "      <td>Informally employed</td>\n",
              "    </tr>\n",
              "  </tbody>\n",
              "</table>\n",
              "</div>"
            ],
            "text/plain": [
              "  country  year  ... education_level                 occupation\n",
              "0   Kenya  2018  ...               2              Self employed\n",
              "1   Kenya  2018  ...               0       Government Dependent\n",
              "2   Kenya  2018  ...               3              Self employed\n",
              "3   Kenya  2018  ...               1  Formally employed Private\n",
              "4   Kenya  2018  ...               1        Informally employed\n",
              "\n",
              "[5 rows x 13 columns]"
            ]
          },
          "metadata": {
            "tags": []
          },
          "execution_count": 601
        }
      ]
    },
    {
      "cell_type": "code",
      "metadata": {
        "id": "8cOEcutu7mYF",
        "colab_type": "code",
        "colab": {
          "base_uri": "https://localhost:8080/",
          "height": 34
        },
        "outputId": "63d6a518-f842-4dd2-b71e-bd63bcabb80d"
      },
      "source": [
        "# Summary of correlations between various demographic info\n",
        "# with bank account status\n",
        "\n",
        "finance['location_type'].corr(finance['has_a_bank_account'])\n"
      ],
      "execution_count": null,
      "outputs": [
        {
          "output_type": "execute_result",
          "data": {
            "text/plain": [
              "-0.08849280626186377"
            ]
          },
          "metadata": {
            "tags": []
          },
          "execution_count": 602
        }
      ]
    },
    {
      "cell_type": "code",
      "metadata": {
        "id": "2QwPa7hw9k9d",
        "colab_type": "code",
        "colab": {
          "base_uri": "https://localhost:8080/",
          "height": 34
        },
        "outputId": "7d6b1208-163f-435b-a149-6b364b4979b4"
      },
      "source": [
        "finance['has_a_cell_phone'].corr(finance['has_a_bank_account'])"
      ],
      "execution_count": null,
      "outputs": [
        {
          "output_type": "execute_result",
          "data": {
            "text/plain": [
              "0.20957156872677984"
            ]
          },
          "metadata": {
            "tags": []
          },
          "execution_count": 603
        }
      ]
    },
    {
      "cell_type": "code",
      "metadata": {
        "id": "SkP-KmQr9hh9",
        "colab_type": "code",
        "colab": {
          "base_uri": "https://localhost:8080/",
          "height": 34
        },
        "outputId": "5c759cde-4688-4e01-90e2-d5a78df8d0d8"
      },
      "source": [
        "finance['household_size'].corr(finance['has_a_bank_account'])"
      ],
      "execution_count": null,
      "outputs": [
        {
          "output_type": "execute_result",
          "data": {
            "text/plain": [
              "-0.022856244820033532"
            ]
          },
          "metadata": {
            "tags": []
          },
          "execution_count": 604
        }
      ]
    },
    {
      "cell_type": "code",
      "metadata": {
        "id": "8gtsjUTa9pue",
        "colab_type": "code",
        "colab": {
          "base_uri": "https://localhost:8080/",
          "height": 34
        },
        "outputId": "fe78f530-5122-48a7-9be0-24cea2fb9aa6"
      },
      "source": [
        "finance['respondent_gender'].corr(finance['has_a_bank_account'])"
      ],
      "execution_count": null,
      "outputs": [
        {
          "output_type": "execute_result",
          "data": {
            "text/plain": [
              "0.11617726823081483"
            ]
          },
          "metadata": {
            "tags": []
          },
          "execution_count": 605
        }
      ]
    },
    {
      "cell_type": "markdown",
      "metadata": {
        "id": "AB1DNwVxDx6s",
        "colab_type": "text"
      },
      "source": [
        "## Multivariate Analysis"
      ]
    },
    {
      "cell_type": "markdown",
      "metadata": {
        "id": "aOWFokQzEZKv",
        "colab_type": "text"
      },
      "source": [
        "> Here, we are going to use Principal Component Analysis (PCA) to select the most important features in the dataset that tell us the maximum amount of information about the dataset\n"
      ]
    },
    {
      "cell_type": "code",
      "metadata": {
        "id": "IkNL4R3CAh6W",
        "colab_type": "code",
        "colab": {
          "base_uri": "https://localhost:8080/",
          "height": 326
        },
        "outputId": "97199c94-5f16-4b43-d884-926d3fea92ee"
      },
      "source": [
        "finance.head()"
      ],
      "execution_count": null,
      "outputs": [
        {
          "output_type": "execute_result",
          "data": {
            "text/html": [
              "<div>\n",
              "<style scoped>\n",
              "    .dataframe tbody tr th:only-of-type {\n",
              "        vertical-align: middle;\n",
              "    }\n",
              "\n",
              "    .dataframe tbody tr th {\n",
              "        vertical-align: top;\n",
              "    }\n",
              "\n",
              "    .dataframe thead th {\n",
              "        text-align: right;\n",
              "    }\n",
              "</style>\n",
              "<table border=\"1\" class=\"dataframe\">\n",
              "  <thead>\n",
              "    <tr style=\"text-align: right;\">\n",
              "      <th></th>\n",
              "      <th>country</th>\n",
              "      <th>year</th>\n",
              "      <th>uniqueid</th>\n",
              "      <th>has_a_bank_account</th>\n",
              "      <th>location_type</th>\n",
              "      <th>has_a_cell_phone</th>\n",
              "      <th>household_size</th>\n",
              "      <th>respondent_age</th>\n",
              "      <th>respondent_gender</th>\n",
              "      <th>relationship_with_head</th>\n",
              "      <th>marital_status</th>\n",
              "      <th>education_level</th>\n",
              "      <th>occupation</th>\n",
              "    </tr>\n",
              "  </thead>\n",
              "  <tbody>\n",
              "    <tr>\n",
              "      <th>0</th>\n",
              "      <td>Kenya</td>\n",
              "      <td>2018</td>\n",
              "      <td>uniqueid_1</td>\n",
              "      <td>1</td>\n",
              "      <td>1</td>\n",
              "      <td>1</td>\n",
              "      <td>3.0</td>\n",
              "      <td>24.0</td>\n",
              "      <td>0</td>\n",
              "      <td>3</td>\n",
              "      <td>0</td>\n",
              "      <td>2</td>\n",
              "      <td>Self employed</td>\n",
              "    </tr>\n",
              "    <tr>\n",
              "      <th>1</th>\n",
              "      <td>Kenya</td>\n",
              "      <td>2018</td>\n",
              "      <td>uniqueid_2</td>\n",
              "      <td>0</td>\n",
              "      <td>1</td>\n",
              "      <td>0</td>\n",
              "      <td>5.0</td>\n",
              "      <td>70.0</td>\n",
              "      <td>0</td>\n",
              "      <td>0</td>\n",
              "      <td>3</td>\n",
              "      <td>0</td>\n",
              "      <td>Government Dependent</td>\n",
              "    </tr>\n",
              "    <tr>\n",
              "      <th>2</th>\n",
              "      <td>Kenya</td>\n",
              "      <td>2018</td>\n",
              "      <td>uniqueid_3</td>\n",
              "      <td>1</td>\n",
              "      <td>0</td>\n",
              "      <td>1</td>\n",
              "      <td>5.0</td>\n",
              "      <td>26.0</td>\n",
              "      <td>1</td>\n",
              "      <td>4</td>\n",
              "      <td>1</td>\n",
              "      <td>3</td>\n",
              "      <td>Self employed</td>\n",
              "    </tr>\n",
              "    <tr>\n",
              "      <th>3</th>\n",
              "      <td>Kenya</td>\n",
              "      <td>2018</td>\n",
              "      <td>uniqueid_4</td>\n",
              "      <td>0</td>\n",
              "      <td>1</td>\n",
              "      <td>1</td>\n",
              "      <td>5.0</td>\n",
              "      <td>34.0</td>\n",
              "      <td>0</td>\n",
              "      <td>0</td>\n",
              "      <td>0</td>\n",
              "      <td>1</td>\n",
              "      <td>Formally employed Private</td>\n",
              "    </tr>\n",
              "    <tr>\n",
              "      <th>4</th>\n",
              "      <td>Kenya</td>\n",
              "      <td>2018</td>\n",
              "      <td>uniqueid_5</td>\n",
              "      <td>0</td>\n",
              "      <td>0</td>\n",
              "      <td>0</td>\n",
              "      <td>8.0</td>\n",
              "      <td>26.0</td>\n",
              "      <td>1</td>\n",
              "      <td>1</td>\n",
              "      <td>1</td>\n",
              "      <td>1</td>\n",
              "      <td>Informally employed</td>\n",
              "    </tr>\n",
              "  </tbody>\n",
              "</table>\n",
              "</div>"
            ],
            "text/plain": [
              "  country  year  ... education_level                 occupation\n",
              "0   Kenya  2018  ...               2              Self employed\n",
              "1   Kenya  2018  ...               0       Government Dependent\n",
              "2   Kenya  2018  ...               3              Self employed\n",
              "3   Kenya  2018  ...               1  Formally employed Private\n",
              "4   Kenya  2018  ...               1        Informally employed\n",
              "\n",
              "[5 rows x 13 columns]"
            ]
          },
          "metadata": {
            "tags": []
          },
          "execution_count": 606
        }
      ]
    },
    {
      "cell_type": "code",
      "metadata": {
        "id": "TI0zc3jVDGLx",
        "colab_type": "code",
        "colab": {
          "base_uri": "https://localhost:8080/",
          "height": 357
        },
        "outputId": "855638eb-21e0-4275-8403-5f646b8ad8ca"
      },
      "source": [
        "finance.info()"
      ],
      "execution_count": null,
      "outputs": [
        {
          "output_type": "stream",
          "text": [
            "<class 'pandas.core.frame.DataFrame'>\n",
            "RangeIndex: 23357 entries, 0 to 23356\n",
            "Data columns (total 13 columns):\n",
            " #   Column                  Non-Null Count  Dtype  \n",
            "---  ------                  --------------  -----  \n",
            " 0   country                 23357 non-null  object \n",
            " 1   year                    23357 non-null  int64  \n",
            " 2   uniqueid                23357 non-null  object \n",
            " 3   has_a_bank_account      23357 non-null  int64  \n",
            " 4   location_type           23357 non-null  int64  \n",
            " 5   has_a_cell_phone        23357 non-null  int64  \n",
            " 6   household_size          23357 non-null  float64\n",
            " 7   respondent_age          23357 non-null  float64\n",
            " 8   respondent_gender       23357 non-null  int64  \n",
            " 9   relationship_with_head  23357 non-null  int64  \n",
            " 10  marital_status          23357 non-null  int64  \n",
            " 11  education_level         23357 non-null  object \n",
            " 12  occupation              23357 non-null  object \n",
            "dtypes: float64(2), int64(7), object(4)\n",
            "memory usage: 2.3+ MB\n"
          ],
          "name": "stdout"
        }
      ]
    },
    {
      "cell_type": "code",
      "metadata": {
        "id": "bMdjtF3rDVWp",
        "colab_type": "code",
        "colab": {}
      },
      "source": [
        "# Updating data types accordingly\n",
        "\n",
        "finance['education_level'] = finance['education_level'].astype(str).astype(int)\n",
        "finance['relationship_with_head'] = finance['relationship_with_head'].astype(str).astype(int)\n",
        "finance['marital_status'] = finance['marital_status'].astype(str).astype(int)"
      ],
      "execution_count": null,
      "outputs": []
    },
    {
      "cell_type": "code",
      "metadata": {
        "id": "oHeiXzRMDcPB",
        "colab_type": "code",
        "colab": {
          "base_uri": "https://localhost:8080/",
          "height": 357
        },
        "outputId": "f42959bc-8470-4c1d-e773-8fc080b020b8"
      },
      "source": [
        "finance.info()"
      ],
      "execution_count": null,
      "outputs": [
        {
          "output_type": "stream",
          "text": [
            "<class 'pandas.core.frame.DataFrame'>\n",
            "RangeIndex: 23357 entries, 0 to 23356\n",
            "Data columns (total 13 columns):\n",
            " #   Column                  Non-Null Count  Dtype  \n",
            "---  ------                  --------------  -----  \n",
            " 0   country                 23357 non-null  object \n",
            " 1   year                    23357 non-null  int64  \n",
            " 2   uniqueid                23357 non-null  object \n",
            " 3   has_a_bank_account      23357 non-null  int64  \n",
            " 4   location_type           23357 non-null  int64  \n",
            " 5   has_a_cell_phone        23357 non-null  int64  \n",
            " 6   household_size          23357 non-null  float64\n",
            " 7   respondent_age          23357 non-null  float64\n",
            " 8   respondent_gender       23357 non-null  int64  \n",
            " 9   relationship_with_head  23357 non-null  int64  \n",
            " 10  marital_status          23357 non-null  int64  \n",
            " 11  education_level         23357 non-null  int64  \n",
            " 12  occupation              23357 non-null  object \n",
            "dtypes: float64(2), int64(8), object(3)\n",
            "memory usage: 2.3+ MB\n"
          ],
          "name": "stdout"
        }
      ]
    },
    {
      "cell_type": "code",
      "metadata": {
        "id": "rLKGmI05F1pp",
        "colab_type": "code",
        "colab": {}
      },
      "source": [
        "# Dropping unncessary columns\n",
        "\n",
        "finance.drop(['country','year','uniqueid','occupation'],axis=1,inplace=True)"
      ],
      "execution_count": null,
      "outputs": []
    },
    {
      "cell_type": "code",
      "metadata": {
        "id": "xNmX5tYrGTBi",
        "colab_type": "code",
        "colab": {
          "base_uri": "https://localhost:8080/",
          "height": 224
        },
        "outputId": "034f84b2-40c6-4ff7-8d15-62b311192f25"
      },
      "source": [
        "finance.head()"
      ],
      "execution_count": null,
      "outputs": [
        {
          "output_type": "execute_result",
          "data": {
            "text/html": [
              "<div>\n",
              "<style scoped>\n",
              "    .dataframe tbody tr th:only-of-type {\n",
              "        vertical-align: middle;\n",
              "    }\n",
              "\n",
              "    .dataframe tbody tr th {\n",
              "        vertical-align: top;\n",
              "    }\n",
              "\n",
              "    .dataframe thead th {\n",
              "        text-align: right;\n",
              "    }\n",
              "</style>\n",
              "<table border=\"1\" class=\"dataframe\">\n",
              "  <thead>\n",
              "    <tr style=\"text-align: right;\">\n",
              "      <th></th>\n",
              "      <th>has_a_bank_account</th>\n",
              "      <th>location_type</th>\n",
              "      <th>has_a_cell_phone</th>\n",
              "      <th>household_size</th>\n",
              "      <th>respondent_age</th>\n",
              "      <th>respondent_gender</th>\n",
              "      <th>relationship_with_head</th>\n",
              "      <th>marital_status</th>\n",
              "      <th>education_level</th>\n",
              "    </tr>\n",
              "  </thead>\n",
              "  <tbody>\n",
              "    <tr>\n",
              "      <th>0</th>\n",
              "      <td>1</td>\n",
              "      <td>1</td>\n",
              "      <td>1</td>\n",
              "      <td>3.0</td>\n",
              "      <td>24.0</td>\n",
              "      <td>0</td>\n",
              "      <td>3</td>\n",
              "      <td>0</td>\n",
              "      <td>2</td>\n",
              "    </tr>\n",
              "    <tr>\n",
              "      <th>1</th>\n",
              "      <td>0</td>\n",
              "      <td>1</td>\n",
              "      <td>0</td>\n",
              "      <td>5.0</td>\n",
              "      <td>70.0</td>\n",
              "      <td>0</td>\n",
              "      <td>0</td>\n",
              "      <td>3</td>\n",
              "      <td>0</td>\n",
              "    </tr>\n",
              "    <tr>\n",
              "      <th>2</th>\n",
              "      <td>1</td>\n",
              "      <td>0</td>\n",
              "      <td>1</td>\n",
              "      <td>5.0</td>\n",
              "      <td>26.0</td>\n",
              "      <td>1</td>\n",
              "      <td>4</td>\n",
              "      <td>1</td>\n",
              "      <td>3</td>\n",
              "    </tr>\n",
              "    <tr>\n",
              "      <th>3</th>\n",
              "      <td>0</td>\n",
              "      <td>1</td>\n",
              "      <td>1</td>\n",
              "      <td>5.0</td>\n",
              "      <td>34.0</td>\n",
              "      <td>0</td>\n",
              "      <td>0</td>\n",
              "      <td>0</td>\n",
              "      <td>1</td>\n",
              "    </tr>\n",
              "    <tr>\n",
              "      <th>4</th>\n",
              "      <td>0</td>\n",
              "      <td>0</td>\n",
              "      <td>0</td>\n",
              "      <td>8.0</td>\n",
              "      <td>26.0</td>\n",
              "      <td>1</td>\n",
              "      <td>1</td>\n",
              "      <td>1</td>\n",
              "      <td>1</td>\n",
              "    </tr>\n",
              "  </tbody>\n",
              "</table>\n",
              "</div>"
            ],
            "text/plain": [
              "   has_a_bank_account  location_type  ...  marital_status  education_level\n",
              "0                   1              1  ...               0                2\n",
              "1                   0              1  ...               3                0\n",
              "2                   1              0  ...               1                3\n",
              "3                   0              1  ...               0                1\n",
              "4                   0              0  ...               1                1\n",
              "\n",
              "[5 rows x 9 columns]"
            ]
          },
          "metadata": {
            "tags": []
          },
          "execution_count": 613
        }
      ]
    },
    {
      "cell_type": "markdown",
      "metadata": {
        "id": "kl7EQwpSP8SF",
        "colab_type": "text"
      },
      "source": [
        "### Principal Component Analysis (PCA)"
      ]
    },
    {
      "cell_type": "code",
      "metadata": {
        "id": "Mj9Y7ONRAp-M",
        "colab_type": "code",
        "colab": {}
      },
      "source": [
        "# Preprocessing\n",
        "\n",
        "# The first preprocessing step is to divide the dataset into a feature set and corresponding labels. \n",
        "# We can store the feature sets into the X variable \n",
        "# and the series of corresponding labels in to the y variable\n",
        "\n",
        "x = finance.drop('has_a_bank_account',1)\n",
        "y = finance['has_a_bank_account']\n"
      ],
      "execution_count": null,
      "outputs": []
    },
    {
      "cell_type": "code",
      "metadata": {
        "id": "VnuB4UkdHFVs",
        "colab_type": "code",
        "colab": {
          "base_uri": "https://localhost:8080/",
          "height": 34
        },
        "outputId": "0c1cb53d-ec8e-425e-fc5a-855d53c7d7db"
      },
      "source": [
        "# Checking the x variable\n",
        "\n",
        "x.shape\n"
      ],
      "execution_count": null,
      "outputs": [
        {
          "output_type": "execute_result",
          "data": {
            "text/plain": [
              "(23357, 8)"
            ]
          },
          "metadata": {
            "tags": []
          },
          "execution_count": 617
        }
      ]
    },
    {
      "cell_type": "code",
      "metadata": {
        "id": "nt00v1eLHSrs",
        "colab_type": "code",
        "colab": {
          "base_uri": "https://localhost:8080/",
          "height": 34
        },
        "outputId": "f3087522-a777-4c51-c15a-89bf3be302c0"
      },
      "source": [
        "# Checking the y variable\n",
        "\n",
        "y.shape\n"
      ],
      "execution_count": null,
      "outputs": [
        {
          "output_type": "execute_result",
          "data": {
            "text/plain": [
              "(23357,)"
            ]
          },
          "metadata": {
            "tags": []
          },
          "execution_count": 618
        }
      ]
    },
    {
      "cell_type": "code",
      "metadata": {
        "id": "05nZ1Ye3Gz1Y",
        "colab_type": "code",
        "colab": {}
      },
      "source": [
        "# Splitting the dataset into the Training set and Test set\n",
        "# we shall define the size of the test data as 20% of entire dataset\n",
        "\n",
        "from sklearn.model_selection import train_test_split\n",
        "\n",
        "x_train, x_test, y_train, y_test = train_test_split(x, y, test_size=0.2, random_state=0)"
      ],
      "execution_count": null,
      "outputs": []
    },
    {
      "cell_type": "code",
      "metadata": {
        "id": "q3fZ-5rUHmYD",
        "colab_type": "code",
        "colab": {}
      },
      "source": [
        "# Normalization\n",
        " \n",
        "# We will perform standard scalar normalization to normalize our feature set\n",
        "\n",
        "from sklearn.preprocessing import StandardScaler\n",
        "\n",
        "sc = StandardScaler()\n",
        "x_train = sc.fit_transform(x_train)\n",
        "x_test = sc.transform(x_test)\n"
      ],
      "execution_count": null,
      "outputs": []
    },
    {
      "cell_type": "code",
      "metadata": {
        "id": "v5lkrlmMH-Aw",
        "colab_type": "code",
        "colab": {}
      },
      "source": [
        "# Applying PCA\n",
        "\n",
        "# We expect return all the features in the feature set for both the training and test sets\n",
        "# since we will not specify the number of components in the constructor\n",
        "\n",
        "from sklearn.decomposition import PCA\n",
        "\n",
        "pca = PCA()\n",
        "x_train = pca.fit_transform(x_train)\n",
        "x_test = pca.transform(x_test)"
      ],
      "execution_count": null,
      "outputs": []
    },
    {
      "cell_type": "code",
      "metadata": {
        "id": "0HU6YvQmLPOM",
        "colab_type": "code",
        "colab": {
          "base_uri": "https://localhost:8080/",
          "height": 51
        },
        "outputId": "beea1245-483c-49c2-eae6-e2943fa1446d"
      },
      "source": [
        "# Explained Variance Ratio\n",
        "\n",
        "# we need to check the variance caused by each of the principal components using\n",
        "# the explained variance ratio\n",
        "\n",
        "explained_variance = pca.explained_variance_ratio_\n",
        "explained_variance\n",
        "\n",
        "# The result below shows that the first principal component is responsible for 22.96% variance. \n",
        "# Similarly, the second principal component causes 18.89% variance in the dataset. \n",
        "# Collectively we can say that (22.96 + 18.89) 41.85% of the classification information contained \n",
        "# in the feature set is captured by the first two principal components.\n"
      ],
      "execution_count": null,
      "outputs": [
        {
          "output_type": "execute_result",
          "data": {
            "text/plain": [
              "array([0.22964966, 0.18891222, 0.17105915, 0.11589348, 0.09358427,\n",
              "       0.08020505, 0.07266411, 0.04803206])"
            ]
          },
          "metadata": {
            "tags": []
          },
          "execution_count": 623
        }
      ]
    },
    {
      "cell_type": "code",
      "metadata": {
        "id": "GOvhJs3TMbt9",
        "colab_type": "code",
        "colab": {}
      },
      "source": [
        "# Using 1 Principal Component to train algorithm\n",
        "\n",
        "from sklearn.decomposition import PCA\n",
        "\n",
        "pca = PCA(n_components=1)\n",
        "x_train = pca.fit_transform(x_train)\n",
        "x_test = pca.transform(x_test)"
      ],
      "execution_count": null,
      "outputs": []
    },
    {
      "cell_type": "code",
      "metadata": {
        "id": "ESpc8X20MoNJ",
        "colab_type": "code",
        "colab": {}
      },
      "source": [
        "# Training and Making Predictions using random forest classification\n",
        "\n",
        "from sklearn.ensemble import RandomForestClassifier\n",
        "\n",
        "classifier = RandomForestClassifier(max_depth=2, random_state=0)\n",
        "classifier.fit(x_train, y_train)\n",
        "\n",
        "# Predicting the Test set results\n",
        "y_pred = classifier.predict(x_test)"
      ],
      "execution_count": null,
      "outputs": []
    },
    {
      "cell_type": "code",
      "metadata": {
        "id": "5C7MAaGhM1di",
        "colab_type": "code",
        "colab": {
          "base_uri": "https://localhost:8080/",
          "height": 68
        },
        "outputId": "cf40fa21-07b1-4299-bab4-2140fcf28ed1"
      },
      "source": [
        "# Performance Evaluation\n",
        "\n",
        "from sklearn.metrics import confusion_matrix\n",
        "from sklearn.metrics import accuracy_score\n",
        "\n",
        "cm = confusion_matrix(y_test, y_pred)\n",
        "print(cm)\n",
        "print('Accuracy' , accuracy_score(y_test, y_pred))\n",
        "\n",
        "# with only one feature, the random forest algorithm is able to correctly predict an 85.68% accuracy."
      ],
      "execution_count": null,
      "outputs": [
        {
          "output_type": "stream",
          "text": [
            "[[4003    0]\n",
            " [ 669    0]]\n",
            "Accuracy 0.856806506849315\n"
          ],
          "name": "stdout"
        }
      ]
    },
    {
      "cell_type": "code",
      "metadata": {
        "id": "hizwLqEmN5yE",
        "colab_type": "code",
        "colab": {
          "base_uri": "https://localhost:8080/",
          "height": 68
        },
        "outputId": "a9cd776c-f356-4b09-a5af-862438daa6cf"
      },
      "source": [
        "# Using 2 Principal Components to train algorithm\n",
        "# and make predictions using random forest classification\n",
        "\n",
        "x_train, x_test, y_train, y_test = train_test_split(x, y, test_size=0.2, random_state=0)\n",
        "\n",
        "sc = StandardScaler()\n",
        "x_train = sc.fit_transform(x_train)\n",
        "x_test = sc.transform(x_test)\n",
        "\n",
        "pca = PCA(n_components=2)\n",
        "x_train = pca.fit_transform(x_train)\n",
        "x_test = pca.transform(x_test)\n",
        "\n",
        "classifier = RandomForestClassifier(max_depth=2, random_state=0)\n",
        "classifier.fit(x_train, y_train)\n",
        "\n",
        "from sklearn.metrics import confusion_matrix\n",
        "from sklearn.metrics import accuracy_score\n",
        "\n",
        "cm = confusion_matrix(y_test, y_pred)\n",
        "print(cm)\n",
        "print('Accuracy' , accuracy_score(y_test, y_pred))\n",
        "\n",
        "# with two features, the random forest algorithm is able to correctly predict an 85.68% accuracy."
      ],
      "execution_count": null,
      "outputs": [
        {
          "output_type": "stream",
          "text": [
            "[[4003    0]\n",
            " [ 669    0]]\n",
            "Accuracy 0.856806506849315\n"
          ],
          "name": "stdout"
        }
      ]
    },
    {
      "cell_type": "code",
      "metadata": {
        "id": "OOuhMPciO2F5",
        "colab_type": "code",
        "colab": {
          "base_uri": "https://localhost:8080/",
          "height": 68
        },
        "outputId": "b967fb4f-e5e7-4449-81d6-82bf8627273d"
      },
      "source": [
        "# Using 3 Principal Components to train algorithm\n",
        "# and make predictions using random forest classification\n",
        "\n",
        "x_train, x_test, y_train, y_test = train_test_split(x, y, test_size=0.2, random_state=0)\n",
        "\n",
        "sc = StandardScaler()\n",
        "x_train = sc.fit_transform(x_train)\n",
        "x_test = sc.transform(x_test)\n",
        "\n",
        "pca = PCA(n_components=3)\n",
        "x_train = pca.fit_transform(x_train)\n",
        "x_test = pca.transform(x_test)\n",
        "\n",
        "classifier = RandomForestClassifier(max_depth=2, random_state=0)\n",
        "classifier.fit(x_train, y_train)\n",
        "\n",
        "from sklearn.metrics import confusion_matrix\n",
        "from sklearn.metrics import accuracy_score\n",
        "\n",
        "cm = confusion_matrix(y_test, y_pred)\n",
        "print(cm)\n",
        "print('Accuracy' , accuracy_score(y_test, y_pred))\n",
        "\n",
        "# with three features, the random forest algorithm is able to correctly predict an 85.68% accuracy."
      ],
      "execution_count": null,
      "outputs": [
        {
          "output_type": "stream",
          "text": [
            "[[4003    0]\n",
            " [ 669    0]]\n",
            "Accuracy 0.856806506849315\n"
          ],
          "name": "stdout"
        }
      ]
    },
    {
      "cell_type": "markdown",
      "metadata": {
        "id": "DfP3OglpQPBS",
        "colab_type": "text"
      },
      "source": [
        "### Factor Analysis"
      ]
    },
    {
      "cell_type": "code",
      "metadata": {
        "id": "5seSSZYHQgN3",
        "colab_type": "code",
        "colab": {
          "base_uri": "https://localhost:8080/",
          "height": 224
        },
        "outputId": "73063873-ff0b-4055-a772-1d5a29a994be"
      },
      "source": [
        "# First we need to evaluate the “factorability” of our dataset\n",
        "# If Bartlett’s test turns out to be statistically insignificant, then we cannot use a factor analysis.\n",
        "\n",
        "!pip install factor_analyzer==0.2.3\n",
        "\n",
        "from factor_analyzer.factor_analyzer import calculate_bartlett_sphericity\n"
      ],
      "execution_count": null,
      "outputs": [
        {
          "output_type": "stream",
          "text": [
            "Collecting factor_analyzer==0.2.3\n",
            "  Downloading https://files.pythonhosted.org/packages/79/1b/84808bbeee0f3a8753c3d8034baf0aa0013cf08957eff750f366ce83f04a/factor_analyzer-0.2.3-py2.py3-none-any.whl\n",
            "Requirement already satisfied: scipy in /usr/local/lib/python3.6/dist-packages (from factor_analyzer==0.2.3) (1.4.1)\n",
            "Requirement already satisfied: pandas in /usr/local/lib/python3.6/dist-packages (from factor_analyzer==0.2.3) (1.0.5)\n",
            "Requirement already satisfied: numpy in /usr/local/lib/python3.6/dist-packages (from factor_analyzer==0.2.3) (1.18.5)\n",
            "Requirement already satisfied: python-dateutil>=2.6.1 in /usr/local/lib/python3.6/dist-packages (from pandas->factor_analyzer==0.2.3) (2.8.1)\n",
            "Requirement already satisfied: pytz>=2017.2 in /usr/local/lib/python3.6/dist-packages (from pandas->factor_analyzer==0.2.3) (2018.9)\n",
            "Requirement already satisfied: six>=1.5 in /usr/local/lib/python3.6/dist-packages (from python-dateutil>=2.6.1->pandas->factor_analyzer==0.2.3) (1.15.0)\n",
            "Installing collected packages: factor-analyzer\n",
            "Successfully installed factor-analyzer-0.2.3\n"
          ],
          "name": "stdout"
        },
        {
          "output_type": "execute_result",
          "data": {
            "text/plain": [
              "(27196.413084996748, 0.0)"
            ]
          },
          "metadata": {
            "tags": []
          },
          "execution_count": 637
        }
      ]
    },
    {
      "cell_type": "code",
      "metadata": {
        "id": "DcSnakSoTNXo",
        "colab_type": "code",
        "colab": {
          "base_uri": "https://localhost:8080/",
          "height": 34
        },
        "outputId": "1b4be05f-8f8a-40e4-b44e-c12cfb6e8204"
      },
      "source": [
        "chi_square_value,p_value=calculate_bartlett_sphericity(finance)\n",
        "chi_square_value, p_value\n",
        "\n",
        "# In Bartlett ’s test, the p-value is 0. The test was statistically insignificant, \n",
        "# indicating that the observed correlation matrix is not an identity matrix."
      ],
      "execution_count": null,
      "outputs": [
        {
          "output_type": "execute_result",
          "data": {
            "text/plain": [
              "(27196.413084996748, 0.0)"
            ]
          },
          "metadata": {
            "tags": []
          },
          "execution_count": 638
        }
      ]
    },
    {
      "cell_type": "code",
      "metadata": {
        "id": "weojgGy5Tka8",
        "colab_type": "code",
        "colab": {
          "base_uri": "https://localhost:8080/",
          "height": 34
        },
        "outputId": "eb0ddff7-c9bc-4b7f-a42f-13e9dbbf9e70"
      },
      "source": [
        "# Next we can check the Kaiser-Meyer-Olkin (KMO) Test\n",
        "# to determine the adequacy for each observed variable and for the complete model.\n",
        "\n",
        "from factor_analyzer.factor_analyzer import calculate_kmo\n",
        "\n",
        "kmo_all,kmo_model=calculate_kmo(finance)\n",
        "\n",
        "kmo_model\n",
        "\n",
        "\n",
        "# The overall KMO for our data is 0.54, which is considered inadequate\n",
        "# This value indicates that we cannot proceed with the planned factor analysis"
      ],
      "execution_count": null,
      "outputs": [
        {
          "output_type": "execute_result",
          "data": {
            "text/plain": [
              "0.5366573084407769"
            ]
          },
          "metadata": {
            "tags": []
          },
          "execution_count": 642
        }
      ]
    },
    {
      "cell_type": "code",
      "metadata": {
        "id": "0eHv9gSSU2gw",
        "colab_type": "code",
        "colab": {
          "base_uri": "https://localhost:8080/",
          "height": 328
        },
        "outputId": "4962ec1e-3196-4230-8ba6-751347db58b9"
      },
      "source": [
        "kmo_all"
      ],
      "execution_count": null,
      "outputs": [
        {
          "output_type": "execute_result",
          "data": {
            "text/html": [
              "<div>\n",
              "<style scoped>\n",
              "    .dataframe tbody tr th:only-of-type {\n",
              "        vertical-align: middle;\n",
              "    }\n",
              "\n",
              "    .dataframe tbody tr th {\n",
              "        vertical-align: top;\n",
              "    }\n",
              "\n",
              "    .dataframe thead th {\n",
              "        text-align: right;\n",
              "    }\n",
              "</style>\n",
              "<table border=\"1\" class=\"dataframe\">\n",
              "  <thead>\n",
              "    <tr style=\"text-align: right;\">\n",
              "      <th></th>\n",
              "      <th>KMO</th>\n",
              "    </tr>\n",
              "  </thead>\n",
              "  <tbody>\n",
              "    <tr>\n",
              "      <th>has_a_bank_account</th>\n",
              "      <td>0.558779</td>\n",
              "    </tr>\n",
              "    <tr>\n",
              "      <th>location_type</th>\n",
              "      <td>0.554620</td>\n",
              "    </tr>\n",
              "    <tr>\n",
              "      <th>has_a_cell_phone</th>\n",
              "      <td>0.683453</td>\n",
              "    </tr>\n",
              "    <tr>\n",
              "      <th>household_size</th>\n",
              "      <td>0.626153</td>\n",
              "    </tr>\n",
              "    <tr>\n",
              "      <th>respondent_age</th>\n",
              "      <td>0.580340</td>\n",
              "    </tr>\n",
              "    <tr>\n",
              "      <th>respondent_gender</th>\n",
              "      <td>0.429381</td>\n",
              "    </tr>\n",
              "    <tr>\n",
              "      <th>relationship_with_head</th>\n",
              "      <td>0.480600</td>\n",
              "    </tr>\n",
              "    <tr>\n",
              "      <th>marital_status</th>\n",
              "      <td>0.535965</td>\n",
              "    </tr>\n",
              "    <tr>\n",
              "      <th>education_level</th>\n",
              "      <td>0.559482</td>\n",
              "    </tr>\n",
              "  </tbody>\n",
              "</table>\n",
              "</div>"
            ],
            "text/plain": [
              "                             KMO\n",
              "has_a_bank_account      0.558779\n",
              "location_type           0.554620\n",
              "has_a_cell_phone        0.683453\n",
              "household_size          0.626153\n",
              "respondent_age          0.580340\n",
              "respondent_gender       0.429381\n",
              "relationship_with_head  0.480600\n",
              "marital_status          0.535965\n",
              "education_level         0.559482"
            ]
          },
          "metadata": {
            "tags": []
          },
          "execution_count": 643
        }
      ]
    },
    {
      "cell_type": "markdown",
      "metadata": {
        "id": "Muev_AAPVHsB",
        "colab_type": "text"
      },
      "source": [
        "### Discriminant Analysis"
      ]
    },
    {
      "cell_type": "code",
      "metadata": {
        "id": "WXEc-Je3VKHy",
        "colab_type": "code",
        "colab": {
          "base_uri": "https://localhost:8080/",
          "height": 156
        },
        "outputId": "89bdf90a-edde-4293-9e7a-c51a1775be52"
      },
      "source": [
        "# Dividing data into training and test sets\n",
        "\n",
        "x = finance.iloc[:,1:].values\n",
        "y = finance.iloc[:,0].values\n",
        "\n",
        "x_train, x_test, y_train, y_test = train_test_split(x, y, test_size=0.3, random_state=0)\n",
        "\n",
        "# Feature Scaling \n",
        "\n",
        "sc = StandardScaler()\n",
        "x_train = sc.fit_transform(x_train)\n",
        "x_test = sc.transform(x_test)\n",
        "\n",
        "# Performing LDA\n",
        "\n",
        "from sklearn.discriminant_analysis import LinearDiscriminantAnalysis as LDA\n",
        "\n",
        "lda = LDA(n_components=2)\n",
        "x_train = lda.fit_transform(x_train, y_train)\n",
        "x_test = lda.transform(x_test)\n",
        "\n",
        "# Training and Making Predictions\n",
        "\n",
        "from sklearn.ensemble import RandomForestClassifier\n",
        "\n",
        "classifier = RandomForestClassifier(max_depth=2, random_state=0)\n",
        "classifier.fit(x_train, y_train)\n",
        "y_pred = classifier.predict(x_test) \n",
        "\n",
        "# Evaluating Performance\n",
        "\n",
        "from sklearn.metrics import confusion_matrix\n",
        "from sklearn.metrics import accuracy_score\n",
        "\n",
        "cm = confusion_matrix(y_test, y_pred)\n",
        "print(cm)\n",
        "print('Accuracy' , accuracy_score(y_test, y_pred))\n",
        "\n",
        "# We can see that with one linear discriminant, the algorithm achieved an accuracy of 86.52%, \n",
        "# which is slightly greater than the accuracy achieved with one principal component, which was 85.68%."
      ],
      "execution_count": null,
      "outputs": [
        {
          "output_type": "stream",
          "text": [
            "/usr/local/lib/python3.6/dist-packages/sklearn/discriminant_analysis.py:463: ChangedBehaviorWarning: n_components cannot be larger than min(n_features, n_classes - 1). Using min(n_features, n_classes - 1) = min(8, 2 - 1) = 1 components.\n",
            "  ChangedBehaviorWarning)\n",
            "/usr/local/lib/python3.6/dist-packages/sklearn/discriminant_analysis.py:469: FutureWarning: In version 0.23, setting n_components > min(n_features, n_classes - 1) will raise a ValueError. You should set n_components to None (default), or a value smaller or equal to min(n_features, n_classes - 1).\n",
            "  warnings.warn(future_msg, FutureWarning)\n"
          ],
          "name": "stderr"
        },
        {
          "output_type": "stream",
          "text": [
            "[[5779  214]\n",
            " [ 731  284]]\n",
            "Accuracy 0.865154109589041\n"
          ],
          "name": "stdout"
        }
      ]
    },
    {
      "cell_type": "markdown",
      "metadata": {
        "id": "basXtDucD4O6",
        "colab_type": "text"
      },
      "source": [
        "# Conclusions from the Analysis"
      ]
    },
    {
      "cell_type": "markdown",
      "metadata": {
        "id": "bDXLkSamYws4",
        "colab_type": "text"
      },
      "source": [
        "> Below are some of the insights that can be drawn from the reseach analysis conducted here:\n",
        "\n",
        "\n",
        ">*   Individuals with mobile phone access are very likely to have bank accounts. Banks can therefore utilize mobile banking capabilities to reach more people.\n",
        ">*   There is no significant difference between persons living in rural vs urban areas in terms of their likelihood to have a bank account.\n",
        ">*   When looking at the marital status of an individual, married people are most likelt to have bank accounts.\n",
        ">*   Individuals with Formal and Government jobs are less likely to have bank accounts.\n"
      ]
    },
    {
      "cell_type": "markdown",
      "metadata": {
        "id": "WMZJwy6BD-vR",
        "colab_type": "text"
      },
      "source": [
        "# Follow Up Questions"
      ]
    },
    {
      "cell_type": "markdown",
      "metadata": {
        "id": "5ywf_9_AbEca",
        "colab_type": "text"
      },
      "source": [
        ">  Did we have the right data and was it sufficient?\n",
        "\n",
        ">*   The data was very useful and sufficient enough in this research. However, the dataset can be more balanced for optimal accuracy in trend prediction (i.e. equal number of entries from different countries as opposed to one country  like Rwanda having a lot more records relative to other countries).\n",
        "\n"
      ]
    }
  ]
}